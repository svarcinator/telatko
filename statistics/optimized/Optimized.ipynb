{
 "cells": [
  {
   "cell_type": "code",
   "execution_count": 5,
   "metadata": {},
   "outputs": [],
   "source": [
    "import numpy as np\n",
    "import pandas as pd \n",
    "import csv"
   ]
  },
  {
   "cell_type": "code",
   "execution_count": 6,
   "metadata": {},
   "outputs": [],
   "source": [
    "tele1 = pd.read_csv('rab4.tele.csv')\n",
    "tele2 = pd.read_csv('ltl3tela.tele.csv')\n",
    "tele3 = pd.read_csv('ltl2tgba.tele.csv')\n",
    "scc1 = pd.read_csv('rab4.scc.csv')\n",
    "scc2 = pd.read_csv('ltl3tela.scc.csv')\n",
    "scc3 = pd.read_csv('ltl2tgba.scc.csv')\n",
    "prec1 = pd.read_csv('rab4.prec.csv')\n",
    "prec2 = pd.read_csv('ltl3tela.prec.csv')\n",
    "prec3 = pd.read_csv('ltl2tgba.prec.csv')\n",
    "cycles1 = pd.read_csv('rab4.cycles.csv')\n",
    "cycles2 = pd.read_csv('ltl3tela.cycles.csv')\n",
    "\n",
    "cycles3 = pd.read_csv('ltl2tgba.cycles.csv')"
   ]
  },
  {
   "cell_type": "code",
   "execution_count": 7,
   "metadata": {},
   "outputs": [],
   "source": [
    "drop_tele1 = tele1.drop(columns=[ 'input.source','input.name', 'input.ap','input.edges', 'input.transitions', 'input.scc', 'input.nondetstates'\n",
    "                , 'input.nondeterministic', 'input.alternating', 'exit_status', 'exit_code', 'output.ap', 'output.edges','output.transitions', 'output.nondetstates', 'output.scc', 'output.nondeterministic', 'output.alternating'])"
   ]
  },
  {
   "cell_type": "code",
   "execution_count": 8,
   "metadata": {},
   "outputs": [],
   "source": [
    "drop_tele2 = tele2.drop(columns=[ 'input.source','input.name', 'input.ap','input.edges', 'input.transitions', 'input.scc', 'input.nondetstates'\n",
    "                , 'input.nondeterministic', 'input.alternating', 'exit_status', 'exit_code', 'output.ap', 'output.edges','output.transitions', 'output.nondetstates', 'output.scc', 'output.nondeterministic', 'output.alternating'])"
   ]
  },
  {
   "cell_type": "code",
   "execution_count": 9,
   "metadata": {},
   "outputs": [],
   "source": [
    "drop_scc1 = scc1.drop(columns=[ 'input.source','input.name', 'input.ap','input.edges', 'input.transitions', 'input.scc', 'input.nondetstates'\n",
    "                , 'input.nondeterministic', 'input.alternating', 'exit_status', 'exit_code', 'output.ap', 'output.edges','output.transitions', 'output.nondetstates', 'output.scc', 'output.nondeterministic', 'output.alternating'])"
   ]
  },
  {
   "cell_type": "code",
   "execution_count": 10,
   "metadata": {},
   "outputs": [],
   "source": [
    "drop_scc2 = scc2.drop(columns=[ 'input.source','input.name', 'input.ap','input.edges', 'input.transitions', 'input.scc', 'input.nondetstates'\n",
    "                , 'input.nondeterministic', 'input.alternating', 'exit_status', 'exit_code', 'output.ap', 'output.edges','output.transitions', 'output.nondetstates', 'output.scc', 'output.nondeterministic', 'output.alternating'])"
   ]
  },
  {
   "cell_type": "code",
   "execution_count": 11,
   "metadata": {},
   "outputs": [],
   "source": [
    "drop_prec1 = prec1.drop(columns=[ 'input.source','input.name', 'input.ap','input.edges', 'input.transitions', 'input.scc', 'input.nondetstates'\n",
    "                , 'input.nondeterministic', 'input.alternating', 'exit_status', 'exit_code', 'output.ap', 'output.edges','output.transitions', 'output.nondetstates', 'output.scc', 'output.nondeterministic', 'output.alternating'])"
   ]
  },
  {
   "cell_type": "code",
   "execution_count": 12,
   "metadata": {},
   "outputs": [],
   "source": [
    "drop_prec2 = prec2.drop(columns=[ 'input.source','input.name', 'input.ap','input.edges', 'input.transitions', 'input.scc', 'input.nondetstates'\n",
    "                , 'input.nondeterministic', 'input.alternating', 'exit_status', 'exit_code', 'output.ap', 'output.edges','output.transitions', 'output.nondetstates', 'output.scc', 'output.nondeterministic', 'output.alternating'])"
   ]
  },
  {
   "cell_type": "code",
   "execution_count": 13,
   "metadata": {},
   "outputs": [],
   "source": [
    "drop_prec3 = prec3.drop(columns=[ 'input.source','input.name', 'input.ap','input.edges', 'input.transitions', 'input.scc', 'input.nondetstates'\n",
    "                , 'input.nondeterministic', 'input.alternating', 'exit_status', 'exit_code', 'output.ap', 'output.edges','output.transitions', 'output.nondetstates', 'output.scc', 'output.nondeterministic', 'output.alternating'])"
   ]
  },
  {
   "cell_type": "code",
   "execution_count": 14,
   "metadata": {},
   "outputs": [],
   "source": [
    "drop_cycles3 = cycles3.drop(columns=[ 'input.source','input.name', 'input.ap','input.edges', 'input.transitions', 'input.scc', 'input.nondetstates'\n",
    "                , 'input.nondeterministic', 'input.alternating', 'exit_status', 'exit_code', 'output.ap', 'output.edges','output.transitions', 'output.nondetstates', 'output.scc', 'output.nondeterministic', 'output.alternating'])"
   ]
  },
  {
   "cell_type": "code",
   "execution_count": 15,
   "metadata": {},
   "outputs": [],
   "source": [
    "drop_cycles1 = cycles1.drop(columns=[ 'input.source','input.name', 'input.ap','input.edges', 'input.transitions', 'input.scc', 'input.nondetstates'\n",
    "                , 'input.nondeterministic', 'input.alternating', 'exit_status', 'exit_code', 'output.ap', 'output.edges','output.transitions', 'output.nondetstates', 'output.scc', 'output.nondeterministic', 'output.alternating'])"
   ]
  },
  {
   "cell_type": "code",
   "execution_count": 16,
   "metadata": {},
   "outputs": [],
   "source": [
    "drop_cycles2 = cycles2.drop(columns=[ 'input.source','input.name', 'input.ap','input.edges', 'input.transitions', 'input.scc', 'input.nondetstates'\n",
    "                , 'input.nondeterministic', 'input.alternating', 'exit_status', 'exit_code', 'output.ap', 'output.edges','output.transitions', 'output.nondetstates', 'output.scc', 'output.nondeterministic', 'output.alternating'])"
   ]
  },
  {
   "cell_type": "code",
   "execution_count": 17,
   "metadata": {},
   "outputs": [],
   "source": [
    "drop_tele3 = tele3.drop(columns=[ 'input.source','input.name', 'input.ap','input.edges', 'input.transitions', 'input.scc', 'input.nondetstates'\n",
    "                , 'input.nondeterministic', 'input.alternating', 'exit_status', 'exit_code', 'output.ap', 'output.edges','output.transitions', 'output.nondetstates', 'output.scc', 'output.nondeterministic', 'output.alternating'])"
   ]
  },
  {
   "cell_type": "code",
   "execution_count": 18,
   "metadata": {},
   "outputs": [],
   "source": [
    "drop_scc3 = scc3.drop(columns=[ 'input.source','input.name', 'input.ap','input.edges', 'input.transitions', 'input.scc', 'input.nondetstates'\n",
    "                , 'input.nondeterministic', 'input.alternating', 'exit_status', 'exit_code', 'output.ap', 'output.edges','output.transitions', 'output.nondetstates', 'output.scc', 'output.nondeterministic', 'output.alternating'])"
   ]
  },
  {
   "cell_type": "code",
   "execution_count": 19,
   "metadata": {},
   "outputs": [],
   "source": [
    "sum1 = drop_tele1.sum(axis=0)\n",
    "sum2 = drop_tele2.sum(axis=0)\n",
    "sum3 = drop_scc1.sum(axis=0)\n",
    "sum4 = drop_scc2.sum(axis=0)\n",
    "sum5 = drop_prec1.sum(axis=0)\n",
    "sum6 = drop_prec2.sum(axis=0)\n",
    "sum9 = drop_cycles1.sum(axis=0)\n",
    "sum10 = drop_cycles2.sum(axis=0)\n",
    "sum11 = drop_tele3.sum(axis=0)\n",
    "sum12 = drop_scc3.sum(axis=0)\n",
    "sum13 = drop_prec3.sum(axis=0)\n",
    "sum14 = drop_cycles3.sum(axis=0)"
   ]
  },
  {
   "cell_type": "markdown",
   "metadata": {},
   "source": [
    "RABINIZER\n"
   ]
  },
  {
   "cell_type": "markdown",
   "metadata": {},
   "source": [
    "Level 1"
   ]
  },
  {
   "cell_type": "code",
   "execution_count": 20,
   "metadata": {},
   "outputs": [
    {
     "data": {
      "text/plain": [
       "input.states                                                    1882\n",
       "input.acc_sets                                                   909\n",
       "tool               python3 ./main.py -F%H -O%O -L 1python3 ./main...\n",
       "time                                                         169.647\n",
       "output.states                                                   1882\n",
       "output.acc_sets                                                  465\n",
       "dtype: object"
      ]
     },
     "execution_count": 20,
     "metadata": {},
     "output_type": "execute_result"
    }
   ],
   "source": [
    "sum1"
   ]
  },
  {
   "cell_type": "markdown",
   "metadata": {},
   "source": [
    "level 2"
   ]
  },
  {
   "cell_type": "code",
   "execution_count": 21,
   "metadata": {},
   "outputs": [
    {
     "data": {
      "text/plain": [
       "input.states                                                    1882\n",
       "input.acc_sets                                                   909\n",
       "tool               python3 ./main.py -F%H -O%O -L 2python3 ./main...\n",
       "time                                                         701.578\n",
       "output.states                                                   1882\n",
       "output.acc_sets                                                  423\n",
       "dtype: object"
      ]
     },
     "execution_count": 21,
     "metadata": {},
     "output_type": "execute_result"
    }
   ],
   "source": [
    "sum3"
   ]
  },
  {
   "cell_type": "markdown",
   "metadata": {},
   "source": [
    "level 3"
   ]
  },
  {
   "cell_type": "code",
   "execution_count": 22,
   "metadata": {},
   "outputs": [
    {
     "data": {
      "text/plain": [
       "input.states                                                    1882\n",
       "input.acc_sets                                                   909\n",
       "tool               python3 ./main.py -F%H -O%O -L 3python3 ./main...\n",
       "time                                                         712.078\n",
       "output.states                                                   1882\n",
       "output.acc_sets                                                  421\n",
       "dtype: object"
      ]
     },
     "execution_count": 22,
     "metadata": {},
     "output_type": "execute_result"
    }
   ],
   "source": [
    "sum5"
   ]
  },
  {
   "cell_type": "markdown",
   "metadata": {},
   "source": [
    "level 4"
   ]
  },
  {
   "cell_type": "code",
   "execution_count": 23,
   "metadata": {},
   "outputs": [
    {
     "data": {
      "text/plain": [
       "input.states                                                    1882\n",
       "input.acc_sets                                                   909\n",
       "tool               python3 ./main.py -F%H -O%O -L 4python3 ./main...\n",
       "time                                                         726.562\n",
       "output.states                                                   1882\n",
       "output.acc_sets                                                  420\n",
       "dtype: object"
      ]
     },
     "execution_count": 23,
     "metadata": {},
     "output_type": "execute_result"
    }
   ],
   "source": [
    "sum9"
   ]
  },
  {
   "cell_type": "markdown",
   "metadata": {},
   "source": [
    "LTL3TELA\n",
    "\n"
   ]
  },
  {
   "cell_type": "code",
   "execution_count": 24,
   "metadata": {},
   "outputs": [
    {
     "data": {
      "text/plain": [
       "input.states                                                    1481\n",
       "input.acc_sets                                                   352\n",
       "tool               python3 ./main.py -F%H -O%O -L 1python3 ./main...\n",
       "time                                                         166.222\n",
       "output.states                                                   1481\n",
       "output.acc_sets                                                  340\n",
       "dtype: object"
      ]
     },
     "execution_count": 24,
     "metadata": {},
     "output_type": "execute_result"
    }
   ],
   "source": [
    "sum2"
   ]
  },
  {
   "cell_type": "code",
   "execution_count": 25,
   "metadata": {},
   "outputs": [
    {
     "data": {
      "text/plain": [
       "input.states                                                    1481\n",
       "input.acc_sets                                                   352\n",
       "tool               python3 ./main.py -F%H -O%O -L 2python3 ./main...\n",
       "time                                                         228.117\n",
       "output.states                                                   1481\n",
       "output.acc_sets                                                  332\n",
       "dtype: object"
      ]
     },
     "execution_count": 25,
     "metadata": {},
     "output_type": "execute_result"
    }
   ],
   "source": [
    "sum4"
   ]
  },
  {
   "cell_type": "code",
   "execution_count": 26,
   "metadata": {},
   "outputs": [
    {
     "data": {
      "text/plain": [
       "input.states                                                    1481\n",
       "input.acc_sets                                                   352\n",
       "tool               python3 ./main.py -F%H -O%O -L 3python3 ./main...\n",
       "time                                                         279.248\n",
       "output.states                                                   1481\n",
       "output.acc_sets                                                  330\n",
       "dtype: object"
      ]
     },
     "execution_count": 26,
     "metadata": {},
     "output_type": "execute_result"
    }
   ],
   "source": [
    "sum6"
   ]
  },
  {
   "cell_type": "code",
   "execution_count": 27,
   "metadata": {},
   "outputs": [
    {
     "data": {
      "text/plain": [
       "input.states                                                    1481\n",
       "input.acc_sets                                                   352\n",
       "tool               python3 ./main.py -F%H -O%O -L 4python3 ./main...\n",
       "time                                                         279.622\n",
       "output.states                                                   1481\n",
       "output.acc_sets                                                  328\n",
       "dtype: object"
      ]
     },
     "execution_count": 27,
     "metadata": {},
     "output_type": "execute_result"
    }
   ],
   "source": [
    "sum10"
   ]
  },
  {
   "cell_type": "markdown",
   "metadata": {},
   "source": [
    "LTL2TGBA"
   ]
  },
  {
   "cell_type": "code",
   "execution_count": 28,
   "metadata": {},
   "outputs": [
    {
     "data": {
      "text/plain": [
       "input.states                                                    1684\n",
       "input.acc_sets                                                   435\n",
       "tool               python3 ./main.py -F%H -O%O -L 1python3 ./main...\n",
       "time                                                         165.157\n",
       "output.states                                                   1684\n",
       "output.acc_sets                                                  391\n",
       "dtype: object"
      ]
     },
     "execution_count": 28,
     "metadata": {},
     "output_type": "execute_result"
    }
   ],
   "source": [
    "sum11"
   ]
  },
  {
   "cell_type": "code",
   "execution_count": 29,
   "metadata": {},
   "outputs": [
    {
     "data": {
      "text/plain": [
       "input.states                                                    1684\n",
       "input.acc_sets                                                   435\n",
       "tool               python3 ./main.py -F%H -O%O -L 2python3 ./main...\n",
       "time                                                         268.871\n",
       "output.states                                                   1684\n",
       "output.acc_sets                                                  391\n",
       "dtype: object"
      ]
     },
     "execution_count": 29,
     "metadata": {},
     "output_type": "execute_result"
    }
   ],
   "source": [
    "sum12"
   ]
  },
  {
   "cell_type": "code",
   "execution_count": 30,
   "metadata": {},
   "outputs": [
    {
     "data": {
      "text/plain": [
       "input.states                                                    1684\n",
       "input.acc_sets                                                   435\n",
       "tool               python3 ./main.py -F%H -O%O -L 3python3 ./main...\n",
       "time                                                         376.291\n",
       "output.states                                                   1684\n",
       "output.acc_sets                                                  391\n",
       "dtype: object"
      ]
     },
     "execution_count": 30,
     "metadata": {},
     "output_type": "execute_result"
    }
   ],
   "source": [
    "sum13"
   ]
  },
  {
   "cell_type": "code",
   "execution_count": 31,
   "metadata": {},
   "outputs": [
    {
     "data": {
      "text/plain": [
       "input.states                                                    1684\n",
       "input.acc_sets                                                   435\n",
       "tool               python3 ./main.py -F%H -O%O -L 4python3 ./main...\n",
       "time                                                         491.427\n",
       "output.states                                                   1684\n",
       "output.acc_sets                                                  390\n",
       "dtype: object"
      ]
     },
     "execution_count": 31,
     "metadata": {},
     "output_type": "execute_result"
    }
   ],
   "source": [
    "sum14"
   ]
  },
  {
   "cell_type": "code",
   "execution_count": null,
   "metadata": {},
   "outputs": [],
   "source": []
  },
  {
   "cell_type": "code",
   "execution_count": null,
   "metadata": {},
   "outputs": [],
   "source": []
  },
  {
   "cell_type": "code",
   "execution_count": null,
   "metadata": {},
   "outputs": [],
   "source": []
  }
 ],
 "metadata": {
  "kernelspec": {
   "display_name": "Python 3",
   "language": "python",
   "name": "python3"
  },
  "language_info": {
   "codemirror_mode": {
    "name": "ipython",
    "version": 3
   },
   "file_extension": ".py",
   "mimetype": "text/x-python",
   "name": "python",
   "nbconvert_exporter": "python",
   "pygments_lexer": "ipython3",
   "version": "3.8.10"
  }
 },
 "nbformat": 4,
 "nbformat_minor": 4
}
