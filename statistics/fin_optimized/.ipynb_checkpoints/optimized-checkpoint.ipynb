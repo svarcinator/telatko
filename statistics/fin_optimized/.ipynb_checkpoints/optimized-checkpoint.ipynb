{
 "cells": [
  {
   "cell_type": "code",
   "execution_count": 1,
   "metadata": {},
   "outputs": [],
   "source": [
    "import numpy as np\n",
    "import pandas as pd \n",
    "import csv"
   ]
  },
  {
   "cell_type": "code",
   "execution_count": 5,
   "metadata": {},
   "outputs": [
    {
     "ename": "FileNotFoundError",
     "evalue": "[Errno 2] No such file or directory: 'ltl2tgba.tele.csv'",
     "output_type": "error",
     "traceback": [
      "\u001b[0;31m---------------------------------------------------------------------------\u001b[0m",
      "\u001b[0;31mFileNotFoundError\u001b[0m                         Traceback (most recent call last)",
      "\u001b[0;32m<ipython-input-5-e6de36ed1020>\u001b[0m in \u001b[0;36m<module>\u001b[0;34m\u001b[0m\n\u001b[1;32m      1\u001b[0m \u001b[0mtele1\u001b[0m \u001b[0;34m=\u001b[0m \u001b[0mpd\u001b[0m\u001b[0;34m.\u001b[0m\u001b[0mread_csv\u001b[0m\u001b[0;34m(\u001b[0m\u001b[0;34m'rab4.tele.csv'\u001b[0m\u001b[0;34m)\u001b[0m\u001b[0;34m\u001b[0m\u001b[0;34m\u001b[0m\u001b[0m\n\u001b[1;32m      2\u001b[0m \u001b[0mtele2\u001b[0m \u001b[0;34m=\u001b[0m \u001b[0mpd\u001b[0m\u001b[0;34m.\u001b[0m\u001b[0mread_csv\u001b[0m\u001b[0;34m(\u001b[0m\u001b[0;34m'ltl3tela.tele.csv'\u001b[0m\u001b[0;34m)\u001b[0m\u001b[0;34m\u001b[0m\u001b[0;34m\u001b[0m\u001b[0m\n\u001b[0;32m----> 3\u001b[0;31m \u001b[0mtele3\u001b[0m \u001b[0;34m=\u001b[0m \u001b[0mpd\u001b[0m\u001b[0;34m.\u001b[0m\u001b[0mread_csv\u001b[0m\u001b[0;34m(\u001b[0m\u001b[0;34m'ltl2tgba.tele.csv'\u001b[0m\u001b[0;34m)\u001b[0m\u001b[0;34m\u001b[0m\u001b[0;34m\u001b[0m\u001b[0m\n\u001b[0m\u001b[1;32m      4\u001b[0m \u001b[0mscc1\u001b[0m \u001b[0;34m=\u001b[0m \u001b[0mpd\u001b[0m\u001b[0;34m.\u001b[0m\u001b[0mread_csv\u001b[0m\u001b[0;34m(\u001b[0m\u001b[0;34m'rab4.scc.csv'\u001b[0m\u001b[0;34m)\u001b[0m\u001b[0;34m\u001b[0m\u001b[0;34m\u001b[0m\u001b[0m\n\u001b[1;32m      5\u001b[0m \u001b[0mscc2\u001b[0m \u001b[0;34m=\u001b[0m \u001b[0mpd\u001b[0m\u001b[0;34m.\u001b[0m\u001b[0mread_csv\u001b[0m\u001b[0;34m(\u001b[0m\u001b[0;34m'ltl3tela.scc.csv'\u001b[0m\u001b[0;34m)\u001b[0m\u001b[0;34m\u001b[0m\u001b[0;34m\u001b[0m\u001b[0m\n",
      "\u001b[0;32m~/.local/lib/python3.8/site-packages/pandas/io/parsers.py\u001b[0m in \u001b[0;36mread_csv\u001b[0;34m(filepath_or_buffer, sep, delimiter, header, names, index_col, usecols, squeeze, prefix, mangle_dupe_cols, dtype, engine, converters, true_values, false_values, skipinitialspace, skiprows, skipfooter, nrows, na_values, keep_default_na, na_filter, verbose, skip_blank_lines, parse_dates, infer_datetime_format, keep_date_col, date_parser, dayfirst, cache_dates, iterator, chunksize, compression, thousands, decimal, lineterminator, quotechar, quoting, doublequote, escapechar, comment, encoding, dialect, error_bad_lines, warn_bad_lines, delim_whitespace, low_memory, memory_map, float_precision)\u001b[0m\n\u001b[1;32m    684\u001b[0m     )\n\u001b[1;32m    685\u001b[0m \u001b[0;34m\u001b[0m\u001b[0m\n\u001b[0;32m--> 686\u001b[0;31m     \u001b[0;32mreturn\u001b[0m \u001b[0m_read\u001b[0m\u001b[0;34m(\u001b[0m\u001b[0mfilepath_or_buffer\u001b[0m\u001b[0;34m,\u001b[0m \u001b[0mkwds\u001b[0m\u001b[0;34m)\u001b[0m\u001b[0;34m\u001b[0m\u001b[0;34m\u001b[0m\u001b[0m\n\u001b[0m\u001b[1;32m    687\u001b[0m \u001b[0;34m\u001b[0m\u001b[0m\n\u001b[1;32m    688\u001b[0m \u001b[0;34m\u001b[0m\u001b[0m\n",
      "\u001b[0;32m~/.local/lib/python3.8/site-packages/pandas/io/parsers.py\u001b[0m in \u001b[0;36m_read\u001b[0;34m(filepath_or_buffer, kwds)\u001b[0m\n\u001b[1;32m    450\u001b[0m \u001b[0;34m\u001b[0m\u001b[0m\n\u001b[1;32m    451\u001b[0m     \u001b[0;31m# Create the parser.\u001b[0m\u001b[0;34m\u001b[0m\u001b[0;34m\u001b[0m\u001b[0;34m\u001b[0m\u001b[0m\n\u001b[0;32m--> 452\u001b[0;31m     \u001b[0mparser\u001b[0m \u001b[0;34m=\u001b[0m \u001b[0mTextFileReader\u001b[0m\u001b[0;34m(\u001b[0m\u001b[0mfp_or_buf\u001b[0m\u001b[0;34m,\u001b[0m \u001b[0;34m**\u001b[0m\u001b[0mkwds\u001b[0m\u001b[0;34m)\u001b[0m\u001b[0;34m\u001b[0m\u001b[0;34m\u001b[0m\u001b[0m\n\u001b[0m\u001b[1;32m    453\u001b[0m \u001b[0;34m\u001b[0m\u001b[0m\n\u001b[1;32m    454\u001b[0m     \u001b[0;32mif\u001b[0m \u001b[0mchunksize\u001b[0m \u001b[0;32mor\u001b[0m \u001b[0miterator\u001b[0m\u001b[0;34m:\u001b[0m\u001b[0;34m\u001b[0m\u001b[0;34m\u001b[0m\u001b[0m\n",
      "\u001b[0;32m~/.local/lib/python3.8/site-packages/pandas/io/parsers.py\u001b[0m in \u001b[0;36m__init__\u001b[0;34m(self, f, engine, **kwds)\u001b[0m\n\u001b[1;32m    934\u001b[0m             \u001b[0mself\u001b[0m\u001b[0;34m.\u001b[0m\u001b[0moptions\u001b[0m\u001b[0;34m[\u001b[0m\u001b[0;34m\"has_index_names\"\u001b[0m\u001b[0;34m]\u001b[0m \u001b[0;34m=\u001b[0m \u001b[0mkwds\u001b[0m\u001b[0;34m[\u001b[0m\u001b[0;34m\"has_index_names\"\u001b[0m\u001b[0;34m]\u001b[0m\u001b[0;34m\u001b[0m\u001b[0;34m\u001b[0m\u001b[0m\n\u001b[1;32m    935\u001b[0m \u001b[0;34m\u001b[0m\u001b[0m\n\u001b[0;32m--> 936\u001b[0;31m         \u001b[0mself\u001b[0m\u001b[0;34m.\u001b[0m\u001b[0m_make_engine\u001b[0m\u001b[0;34m(\u001b[0m\u001b[0mself\u001b[0m\u001b[0;34m.\u001b[0m\u001b[0mengine\u001b[0m\u001b[0;34m)\u001b[0m\u001b[0;34m\u001b[0m\u001b[0;34m\u001b[0m\u001b[0m\n\u001b[0m\u001b[1;32m    937\u001b[0m \u001b[0;34m\u001b[0m\u001b[0m\n\u001b[1;32m    938\u001b[0m     \u001b[0;32mdef\u001b[0m \u001b[0mclose\u001b[0m\u001b[0;34m(\u001b[0m\u001b[0mself\u001b[0m\u001b[0;34m)\u001b[0m\u001b[0;34m:\u001b[0m\u001b[0;34m\u001b[0m\u001b[0;34m\u001b[0m\u001b[0m\n",
      "\u001b[0;32m~/.local/lib/python3.8/site-packages/pandas/io/parsers.py\u001b[0m in \u001b[0;36m_make_engine\u001b[0;34m(self, engine)\u001b[0m\n\u001b[1;32m   1166\u001b[0m     \u001b[0;32mdef\u001b[0m \u001b[0m_make_engine\u001b[0m\u001b[0;34m(\u001b[0m\u001b[0mself\u001b[0m\u001b[0;34m,\u001b[0m \u001b[0mengine\u001b[0m\u001b[0;34m=\u001b[0m\u001b[0;34m\"c\"\u001b[0m\u001b[0;34m)\u001b[0m\u001b[0;34m:\u001b[0m\u001b[0;34m\u001b[0m\u001b[0;34m\u001b[0m\u001b[0m\n\u001b[1;32m   1167\u001b[0m         \u001b[0;32mif\u001b[0m \u001b[0mengine\u001b[0m \u001b[0;34m==\u001b[0m \u001b[0;34m\"c\"\u001b[0m\u001b[0;34m:\u001b[0m\u001b[0;34m\u001b[0m\u001b[0;34m\u001b[0m\u001b[0m\n\u001b[0;32m-> 1168\u001b[0;31m             \u001b[0mself\u001b[0m\u001b[0;34m.\u001b[0m\u001b[0m_engine\u001b[0m \u001b[0;34m=\u001b[0m \u001b[0mCParserWrapper\u001b[0m\u001b[0;34m(\u001b[0m\u001b[0mself\u001b[0m\u001b[0;34m.\u001b[0m\u001b[0mf\u001b[0m\u001b[0;34m,\u001b[0m \u001b[0;34m**\u001b[0m\u001b[0mself\u001b[0m\u001b[0;34m.\u001b[0m\u001b[0moptions\u001b[0m\u001b[0;34m)\u001b[0m\u001b[0;34m\u001b[0m\u001b[0;34m\u001b[0m\u001b[0m\n\u001b[0m\u001b[1;32m   1169\u001b[0m         \u001b[0;32melse\u001b[0m\u001b[0;34m:\u001b[0m\u001b[0;34m\u001b[0m\u001b[0;34m\u001b[0m\u001b[0m\n\u001b[1;32m   1170\u001b[0m             \u001b[0;32mif\u001b[0m \u001b[0mengine\u001b[0m \u001b[0;34m==\u001b[0m \u001b[0;34m\"python\"\u001b[0m\u001b[0;34m:\u001b[0m\u001b[0;34m\u001b[0m\u001b[0;34m\u001b[0m\u001b[0m\n",
      "\u001b[0;32m~/.local/lib/python3.8/site-packages/pandas/io/parsers.py\u001b[0m in \u001b[0;36m__init__\u001b[0;34m(self, src, **kwds)\u001b[0m\n\u001b[1;32m   1996\u001b[0m         \u001b[0mkwds\u001b[0m\u001b[0;34m[\u001b[0m\u001b[0;34m\"usecols\"\u001b[0m\u001b[0;34m]\u001b[0m \u001b[0;34m=\u001b[0m \u001b[0mself\u001b[0m\u001b[0;34m.\u001b[0m\u001b[0musecols\u001b[0m\u001b[0;34m\u001b[0m\u001b[0;34m\u001b[0m\u001b[0m\n\u001b[1;32m   1997\u001b[0m \u001b[0;34m\u001b[0m\u001b[0m\n\u001b[0;32m-> 1998\u001b[0;31m         \u001b[0mself\u001b[0m\u001b[0;34m.\u001b[0m\u001b[0m_reader\u001b[0m \u001b[0;34m=\u001b[0m \u001b[0mparsers\u001b[0m\u001b[0;34m.\u001b[0m\u001b[0mTextReader\u001b[0m\u001b[0;34m(\u001b[0m\u001b[0msrc\u001b[0m\u001b[0;34m,\u001b[0m \u001b[0;34m**\u001b[0m\u001b[0mkwds\u001b[0m\u001b[0;34m)\u001b[0m\u001b[0;34m\u001b[0m\u001b[0;34m\u001b[0m\u001b[0m\n\u001b[0m\u001b[1;32m   1999\u001b[0m         \u001b[0mself\u001b[0m\u001b[0;34m.\u001b[0m\u001b[0munnamed_cols\u001b[0m \u001b[0;34m=\u001b[0m \u001b[0mself\u001b[0m\u001b[0;34m.\u001b[0m\u001b[0m_reader\u001b[0m\u001b[0;34m.\u001b[0m\u001b[0munnamed_cols\u001b[0m\u001b[0;34m\u001b[0m\u001b[0;34m\u001b[0m\u001b[0m\n\u001b[1;32m   2000\u001b[0m \u001b[0;34m\u001b[0m\u001b[0m\n",
      "\u001b[0;32mpandas/_libs/parsers.pyx\u001b[0m in \u001b[0;36mpandas._libs.parsers.TextReader.__cinit__\u001b[0;34m()\u001b[0m\n",
      "\u001b[0;32mpandas/_libs/parsers.pyx\u001b[0m in \u001b[0;36mpandas._libs.parsers.TextReader._setup_parser_source\u001b[0;34m()\u001b[0m\n",
      "\u001b[0;31mFileNotFoundError\u001b[0m: [Errno 2] No such file or directory: 'ltl2tgba.tele.csv'"
     ]
    }
   ],
   "source": [
    "tele1 = pd.read_csv('rab4.tele.csv')\n",
    "tele2 = pd.read_csv('ltl3tela.tele.csv')\n",
    "tele3 = pd.read_csv('ltl2tgba.tele.csv')\n",
    "scc1 = pd.read_csv('rab4.scc.csv')\n",
    "scc2 = pd.read_csv('ltl3tela.scc.csv')\n",
    "scc3 = pd.read_csv('ltl2tgba.scc.csv')\n",
    "prec1 = pd.read_csv('rab4.prec.csv')\n",
    "prec2 = pd.read_csv('ltl3tela.prec.csv')\n",
    "prec3 = pd.read_csv('ltl2tgba.prec.csv')\n",
    "cycles1 = pd.read_csv('rab4.cycles.csv')\n",
    "cycles2 = pd.read_csv('ltl3tela.cycles.csv')\n",
    "\n",
    "cycles3 = pd.read_csv('ltl2tgba.cycles.csv')"
   ]
  },
  {
   "cell_type": "code",
   "execution_count": 6,
   "metadata": {},
   "outputs": [],
   "source": [
    "drop_tele1 = tele1.drop(columns=[ 'input.source','input.name', 'input.ap','input.edges', 'input.transitions', 'input.scc', 'input.nondetstates'\n",
    "                , 'input.nondeterministic', 'input.alternating', 'exit_status', 'exit_code', 'output.ap', 'output.edges','output.transitions', 'output.nondetstates', 'output.scc', 'output.nondeterministic', 'output.alternating'])"
   ]
  },
  {
   "cell_type": "code",
   "execution_count": 7,
   "metadata": {},
   "outputs": [],
   "source": [
    "drop_tele2 = tele2.drop(columns=[ 'input.source','input.name', 'input.ap','input.edges', 'input.transitions', 'input.scc', 'input.nondetstates'\n",
    "                , 'input.nondeterministic', 'input.alternating', 'exit_status', 'exit_code', 'output.ap', 'output.edges','output.transitions', 'output.nondetstates', 'output.scc', 'output.nondeterministic', 'output.alternating'])"
   ]
  },
  {
   "cell_type": "code",
   "execution_count": 8,
   "metadata": {},
   "outputs": [
    {
     "ename": "NameError",
     "evalue": "name 'scc1' is not defined",
     "output_type": "error",
     "traceback": [
      "\u001b[0;31m---------------------------------------------------------------------------\u001b[0m",
      "\u001b[0;31mNameError\u001b[0m                                 Traceback (most recent call last)",
      "\u001b[0;32m<ipython-input-8-62e0ead1144e>\u001b[0m in \u001b[0;36m<module>\u001b[0;34m\u001b[0m\n\u001b[0;32m----> 1\u001b[0;31m drop_scc1 = scc1.drop(columns=[ 'input.source','input.name', 'input.ap','input.edges', 'input.transitions', 'input.scc', 'input.nondetstates'\n\u001b[0m\u001b[1;32m      2\u001b[0m                 , 'input.nondeterministic', 'input.alternating', 'exit_status', 'exit_code', 'output.ap', 'output.edges','output.transitions', 'output.nondetstates', 'output.scc', 'output.nondeterministic', 'output.alternating'])\n",
      "\u001b[0;31mNameError\u001b[0m: name 'scc1' is not defined"
     ]
    }
   ],
   "source": [
    "drop_scc1 = scc1.drop(columns=[ 'input.source','input.name', 'input.ap','input.edges', 'input.transitions', 'input.scc', 'input.nondetstates'\n",
    "                , 'input.nondeterministic', 'input.alternating', 'exit_status', 'exit_code', 'output.ap', 'output.edges','output.transitions', 'output.nondetstates', 'output.scc', 'output.nondeterministic', 'output.alternating'])"
   ]
  },
  {
   "cell_type": "code",
   "execution_count": 9,
   "metadata": {},
   "outputs": [
    {
     "ename": "NameError",
     "evalue": "name 'scc2' is not defined",
     "output_type": "error",
     "traceback": [
      "\u001b[0;31m---------------------------------------------------------------------------\u001b[0m",
      "\u001b[0;31mNameError\u001b[0m                                 Traceback (most recent call last)",
      "\u001b[0;32m<ipython-input-9-40aebdbb9631>\u001b[0m in \u001b[0;36m<module>\u001b[0;34m\u001b[0m\n\u001b[0;32m----> 1\u001b[0;31m drop_scc2 = scc2.drop(columns=[ 'input.source','input.name', 'input.ap','input.edges', 'input.transitions', 'input.scc', 'input.nondetstates'\n\u001b[0m\u001b[1;32m      2\u001b[0m                 , 'input.nondeterministic', 'input.alternating', 'exit_status', 'exit_code', 'output.ap', 'output.edges','output.transitions', 'output.nondetstates', 'output.scc', 'output.nondeterministic', 'output.alternating'])\n",
      "\u001b[0;31mNameError\u001b[0m: name 'scc2' is not defined"
     ]
    }
   ],
   "source": [
    "drop_scc2 = scc2.drop(columns=[ 'input.source','input.name', 'input.ap','input.edges', 'input.transitions', 'input.scc', 'input.nondetstates'\n",
    "                , 'input.nondeterministic', 'input.alternating', 'exit_status', 'exit_code', 'output.ap', 'output.edges','output.transitions', 'output.nondetstates', 'output.scc', 'output.nondeterministic', 'output.alternating'])"
   ]
  },
  {
   "cell_type": "code",
   "execution_count": 10,
   "metadata": {},
   "outputs": [
    {
     "ename": "NameError",
     "evalue": "name 'prec1' is not defined",
     "output_type": "error",
     "traceback": [
      "\u001b[0;31m---------------------------------------------------------------------------\u001b[0m",
      "\u001b[0;31mNameError\u001b[0m                                 Traceback (most recent call last)",
      "\u001b[0;32m<ipython-input-10-de531dc5d03e>\u001b[0m in \u001b[0;36m<module>\u001b[0;34m\u001b[0m\n\u001b[0;32m----> 1\u001b[0;31m drop_prec1 = prec1.drop(columns=[ 'input.source','input.name', 'input.ap','input.edges', 'input.transitions', 'input.scc', 'input.nondetstates'\n\u001b[0m\u001b[1;32m      2\u001b[0m                 , 'input.nondeterministic', 'input.alternating', 'exit_status', 'exit_code', 'output.ap', 'output.edges','output.transitions', 'output.nondetstates', 'output.scc', 'output.nondeterministic', 'output.alternating'])\n",
      "\u001b[0;31mNameError\u001b[0m: name 'prec1' is not defined"
     ]
    }
   ],
   "source": [
    "drop_prec1 = prec1.drop(columns=[ 'input.source','input.name', 'input.ap','input.edges', 'input.transitions', 'input.scc', 'input.nondetstates'\n",
    "                , 'input.nondeterministic', 'input.alternating', 'exit_status', 'exit_code', 'output.ap', 'output.edges','output.transitions', 'output.nondetstates', 'output.scc', 'output.nondeterministic', 'output.alternating'])"
   ]
  },
  {
   "cell_type": "code",
   "execution_count": 11,
   "metadata": {},
   "outputs": [
    {
     "ename": "NameError",
     "evalue": "name 'prec2' is not defined",
     "output_type": "error",
     "traceback": [
      "\u001b[0;31m---------------------------------------------------------------------------\u001b[0m",
      "\u001b[0;31mNameError\u001b[0m                                 Traceback (most recent call last)",
      "\u001b[0;32m<ipython-input-11-faba58060845>\u001b[0m in \u001b[0;36m<module>\u001b[0;34m\u001b[0m\n\u001b[0;32m----> 1\u001b[0;31m drop_prec2 = prec2.drop(columns=[ 'input.source','input.name', 'input.ap','input.edges', 'input.transitions', 'input.scc', 'input.nondetstates'\n\u001b[0m\u001b[1;32m      2\u001b[0m                 , 'input.nondeterministic', 'input.alternating', 'exit_status', 'exit_code', 'output.ap', 'output.edges','output.transitions', 'output.nondetstates', 'output.scc', 'output.nondeterministic', 'output.alternating'])\n",
      "\u001b[0;31mNameError\u001b[0m: name 'prec2' is not defined"
     ]
    }
   ],
   "source": [
    "drop_prec2 = prec2.drop(columns=[ 'input.source','input.name', 'input.ap','input.edges', 'input.transitions', 'input.scc', 'input.nondetstates'\n",
    "                , 'input.nondeterministic', 'input.alternating', 'exit_status', 'exit_code', 'output.ap', 'output.edges','output.transitions', 'output.nondetstates', 'output.scc', 'output.nondeterministic', 'output.alternating'])"
   ]
  },
  {
   "cell_type": "code",
   "execution_count": 12,
   "metadata": {},
   "outputs": [
    {
     "ename": "NameError",
     "evalue": "name 'prec3' is not defined",
     "output_type": "error",
     "traceback": [
      "\u001b[0;31m---------------------------------------------------------------------------\u001b[0m",
      "\u001b[0;31mNameError\u001b[0m                                 Traceback (most recent call last)",
      "\u001b[0;32m<ipython-input-12-01d80b68511e>\u001b[0m in \u001b[0;36m<module>\u001b[0;34m\u001b[0m\n\u001b[0;32m----> 1\u001b[0;31m drop_prec3 = prec3.drop(columns=[ 'input.source','input.name', 'input.ap','input.edges', 'input.transitions', 'input.scc', 'input.nondetstates'\n\u001b[0m\u001b[1;32m      2\u001b[0m                 , 'input.nondeterministic', 'input.alternating', 'exit_status', 'exit_code', 'output.ap', 'output.edges','output.transitions', 'output.nondetstates', 'output.scc', 'output.nondeterministic', 'output.alternating'])\n",
      "\u001b[0;31mNameError\u001b[0m: name 'prec3' is not defined"
     ]
    }
   ],
   "source": [
    "drop_prec3 = prec3.drop(columns=[ 'input.source','input.name', 'input.ap','input.edges', 'input.transitions', 'input.scc', 'input.nondetstates'\n",
    "                , 'input.nondeterministic', 'input.alternating', 'exit_status', 'exit_code', 'output.ap', 'output.edges','output.transitions', 'output.nondetstates', 'output.scc', 'output.nondeterministic', 'output.alternating'])"
   ]
  },
  {
   "cell_type": "code",
   "execution_count": 13,
   "metadata": {},
   "outputs": [
    {
     "ename": "NameError",
     "evalue": "name 'cycles3' is not defined",
     "output_type": "error",
     "traceback": [
      "\u001b[0;31m---------------------------------------------------------------------------\u001b[0m",
      "\u001b[0;31mNameError\u001b[0m                                 Traceback (most recent call last)",
      "\u001b[0;32m<ipython-input-13-a04b2c190f74>\u001b[0m in \u001b[0;36m<module>\u001b[0;34m\u001b[0m\n\u001b[0;32m----> 1\u001b[0;31m drop_cycles3 = cycles3.drop(columns=[ 'input.source','input.name', 'input.ap','input.edges', 'input.transitions', 'input.scc', 'input.nondetstates'\n\u001b[0m\u001b[1;32m      2\u001b[0m                 , 'input.nondeterministic', 'input.alternating', 'exit_status', 'exit_code', 'output.ap', 'output.edges','output.transitions', 'output.nondetstates', 'output.scc', 'output.nondeterministic', 'output.alternating'])\n",
      "\u001b[0;31mNameError\u001b[0m: name 'cycles3' is not defined"
     ]
    }
   ],
   "source": [
    "drop_cycles3 = cycles3.drop(columns=[ 'input.source','input.name', 'input.ap','input.edges', 'input.transitions', 'input.scc', 'input.nondetstates'\n",
    "                , 'input.nondeterministic', 'input.alternating', 'exit_status', 'exit_code', 'output.ap', 'output.edges','output.transitions', 'output.nondetstates', 'output.scc', 'output.nondeterministic', 'output.alternating'])"
   ]
  },
  {
   "cell_type": "code",
   "execution_count": 14,
   "metadata": {},
   "outputs": [
    {
     "ename": "NameError",
     "evalue": "name 'cycles1' is not defined",
     "output_type": "error",
     "traceback": [
      "\u001b[0;31m---------------------------------------------------------------------------\u001b[0m",
      "\u001b[0;31mNameError\u001b[0m                                 Traceback (most recent call last)",
      "\u001b[0;32m<ipython-input-14-2e147b3aabef>\u001b[0m in \u001b[0;36m<module>\u001b[0;34m\u001b[0m\n\u001b[0;32m----> 1\u001b[0;31m drop_cycles1 = cycles1.drop(columns=[ 'input.source','input.name', 'input.ap','input.edges', 'input.transitions', 'input.scc', 'input.nondetstates'\n\u001b[0m\u001b[1;32m      2\u001b[0m                 , 'input.nondeterministic', 'input.alternating', 'exit_status', 'exit_code', 'output.ap', 'output.edges','output.transitions', 'output.nondetstates', 'output.scc', 'output.nondeterministic', 'output.alternating'])\n",
      "\u001b[0;31mNameError\u001b[0m: name 'cycles1' is not defined"
     ]
    }
   ],
   "source": [
    "drop_cycles1 = cycles1.drop(columns=[ 'input.source','input.name', 'input.ap','input.edges', 'input.transitions', 'input.scc', 'input.nondetstates'\n",
    "                , 'input.nondeterministic', 'input.alternating', 'exit_status', 'exit_code', 'output.ap', 'output.edges','output.transitions', 'output.nondetstates', 'output.scc', 'output.nondeterministic', 'output.alternating'])"
   ]
  },
  {
   "cell_type": "code",
   "execution_count": 15,
   "metadata": {},
   "outputs": [
    {
     "ename": "NameError",
     "evalue": "name 'cycles2' is not defined",
     "output_type": "error",
     "traceback": [
      "\u001b[0;31m---------------------------------------------------------------------------\u001b[0m",
      "\u001b[0;31mNameError\u001b[0m                                 Traceback (most recent call last)",
      "\u001b[0;32m<ipython-input-15-54ede3cdca1b>\u001b[0m in \u001b[0;36m<module>\u001b[0;34m\u001b[0m\n\u001b[0;32m----> 1\u001b[0;31m drop_cycles2 = cycles2.drop(columns=[ 'input.source','input.name', 'input.ap','input.edges', 'input.transitions', 'input.scc', 'input.nondetstates'\n\u001b[0m\u001b[1;32m      2\u001b[0m                 , 'input.nondeterministic', 'input.alternating', 'exit_status', 'exit_code', 'output.ap', 'output.edges','output.transitions', 'output.nondetstates', 'output.scc', 'output.nondeterministic', 'output.alternating'])\n",
      "\u001b[0;31mNameError\u001b[0m: name 'cycles2' is not defined"
     ]
    }
   ],
   "source": [
    "drop_cycles2 = cycles2.drop(columns=[ 'input.source','input.name', 'input.ap','input.edges', 'input.transitions', 'input.scc', 'input.nondetstates'\n",
    "                , 'input.nondeterministic', 'input.alternating', 'exit_status', 'exit_code', 'output.ap', 'output.edges','output.transitions', 'output.nondetstates', 'output.scc', 'output.nondeterministic', 'output.alternating'])"
   ]
  },
  {
   "cell_type": "code",
   "execution_count": 16,
   "metadata": {},
   "outputs": [
    {
     "ename": "NameError",
     "evalue": "name 'tele3' is not defined",
     "output_type": "error",
     "traceback": [
      "\u001b[0;31m---------------------------------------------------------------------------\u001b[0m",
      "\u001b[0;31mNameError\u001b[0m                                 Traceback (most recent call last)",
      "\u001b[0;32m<ipython-input-16-93292a153d66>\u001b[0m in \u001b[0;36m<module>\u001b[0;34m\u001b[0m\n\u001b[0;32m----> 1\u001b[0;31m drop_tele3 = tele3.drop(columns=[ 'input.source','input.name', 'input.ap','input.edges', 'input.transitions', 'input.scc', 'input.nondetstates'\n\u001b[0m\u001b[1;32m      2\u001b[0m                 , 'input.nondeterministic', 'input.alternating', 'exit_status', 'exit_code', 'output.ap', 'output.edges','output.transitions', 'output.nondetstates', 'output.scc', 'output.nondeterministic', 'output.alternating'])\n",
      "\u001b[0;31mNameError\u001b[0m: name 'tele3' is not defined"
     ]
    }
   ],
   "source": [
    "drop_tele3 = tele3.drop(columns=[ 'input.source','input.name', 'input.ap','input.edges', 'input.transitions', 'input.scc', 'input.nondetstates'\n",
    "                , 'input.nondeterministic', 'input.alternating', 'exit_status', 'exit_code', 'output.ap', 'output.edges','output.transitions', 'output.nondetstates', 'output.scc', 'output.nondeterministic', 'output.alternating'])"
   ]
  },
  {
   "cell_type": "code",
   "execution_count": 17,
   "metadata": {},
   "outputs": [
    {
     "ename": "NameError",
     "evalue": "name 'scc3' is not defined",
     "output_type": "error",
     "traceback": [
      "\u001b[0;31m---------------------------------------------------------------------------\u001b[0m",
      "\u001b[0;31mNameError\u001b[0m                                 Traceback (most recent call last)",
      "\u001b[0;32m<ipython-input-17-cf3085c0e04a>\u001b[0m in \u001b[0;36m<module>\u001b[0;34m\u001b[0m\n\u001b[0;32m----> 1\u001b[0;31m drop_scc3 = scc3.drop(columns=[ 'input.source','input.name', 'input.ap','input.edges', 'input.transitions', 'input.scc', 'input.nondetstates'\n\u001b[0m\u001b[1;32m      2\u001b[0m                 , 'input.nondeterministic', 'input.alternating', 'exit_status', 'exit_code', 'output.ap', 'output.edges','output.transitions', 'output.nondetstates', 'output.scc', 'output.nondeterministic', 'output.alternating'])\n",
      "\u001b[0;31mNameError\u001b[0m: name 'scc3' is not defined"
     ]
    }
   ],
   "source": [
    "drop_scc3 = scc3.drop(columns=[ 'input.source','input.name', 'input.ap','input.edges', 'input.transitions', 'input.scc', 'input.nondetstates'\n",
    "                , 'input.nondeterministic', 'input.alternating', 'exit_status', 'exit_code', 'output.ap', 'output.edges','output.transitions', 'output.nondetstates', 'output.scc', 'output.nondeterministic', 'output.alternating'])"
   ]
  },
  {
   "cell_type": "code",
   "execution_count": 18,
   "metadata": {},
   "outputs": [
    {
     "ename": "NameError",
     "evalue": "name 'drop_scc1' is not defined",
     "output_type": "error",
     "traceback": [
      "\u001b[0;31m---------------------------------------------------------------------------\u001b[0m",
      "\u001b[0;31mNameError\u001b[0m                                 Traceback (most recent call last)",
      "\u001b[0;32m<ipython-input-18-84d5613095f0>\u001b[0m in \u001b[0;36m<module>\u001b[0;34m\u001b[0m\n\u001b[1;32m      1\u001b[0m \u001b[0msum1\u001b[0m \u001b[0;34m=\u001b[0m \u001b[0mdrop_tele1\u001b[0m\u001b[0;34m.\u001b[0m\u001b[0msum\u001b[0m\u001b[0;34m(\u001b[0m\u001b[0maxis\u001b[0m\u001b[0;34m=\u001b[0m\u001b[0;36m0\u001b[0m\u001b[0;34m)\u001b[0m\u001b[0;34m\u001b[0m\u001b[0;34m\u001b[0m\u001b[0m\n\u001b[1;32m      2\u001b[0m \u001b[0msum2\u001b[0m \u001b[0;34m=\u001b[0m \u001b[0mdrop_tele2\u001b[0m\u001b[0;34m.\u001b[0m\u001b[0msum\u001b[0m\u001b[0;34m(\u001b[0m\u001b[0maxis\u001b[0m\u001b[0;34m=\u001b[0m\u001b[0;36m0\u001b[0m\u001b[0;34m)\u001b[0m\u001b[0;34m\u001b[0m\u001b[0;34m\u001b[0m\u001b[0m\n\u001b[0;32m----> 3\u001b[0;31m \u001b[0msum3\u001b[0m \u001b[0;34m=\u001b[0m \u001b[0mdrop_scc1\u001b[0m\u001b[0;34m.\u001b[0m\u001b[0msum\u001b[0m\u001b[0;34m(\u001b[0m\u001b[0maxis\u001b[0m\u001b[0;34m=\u001b[0m\u001b[0;36m0\u001b[0m\u001b[0;34m)\u001b[0m\u001b[0;34m\u001b[0m\u001b[0;34m\u001b[0m\u001b[0m\n\u001b[0m\u001b[1;32m      4\u001b[0m \u001b[0msum4\u001b[0m \u001b[0;34m=\u001b[0m \u001b[0mdrop_scc2\u001b[0m\u001b[0;34m.\u001b[0m\u001b[0msum\u001b[0m\u001b[0;34m(\u001b[0m\u001b[0maxis\u001b[0m\u001b[0;34m=\u001b[0m\u001b[0;36m0\u001b[0m\u001b[0;34m)\u001b[0m\u001b[0;34m\u001b[0m\u001b[0;34m\u001b[0m\u001b[0m\n\u001b[1;32m      5\u001b[0m \u001b[0msum5\u001b[0m \u001b[0;34m=\u001b[0m \u001b[0mdrop_prec1\u001b[0m\u001b[0;34m.\u001b[0m\u001b[0msum\u001b[0m\u001b[0;34m(\u001b[0m\u001b[0maxis\u001b[0m\u001b[0;34m=\u001b[0m\u001b[0;36m0\u001b[0m\u001b[0;34m)\u001b[0m\u001b[0;34m\u001b[0m\u001b[0;34m\u001b[0m\u001b[0m\n",
      "\u001b[0;31mNameError\u001b[0m: name 'drop_scc1' is not defined"
     ]
    }
   ],
   "source": [
    "sum1 = drop_tele1.sum(axis=0)\n",
    "sum2 = drop_tele2.sum(axis=0)\n",
    "sum3 = drop_scc1.sum(axis=0)\n",
    "sum4 = drop_scc2.sum(axis=0)\n",
    "sum5 = drop_prec1.sum(axis=0)\n",
    "sum6 = drop_prec2.sum(axis=0)\n",
    "sum9 = drop_cycles1.sum(axis=0)\n",
    "sum10 = drop_cycles2.sum(axis=0)\n",
    "sum11 = drop_tele3.sum(axis=0)\n",
    "sum12 = drop_scc3.sum(axis=0)\n",
    "sum13 = drop_prec3.sum(axis=0)\n",
    "sum14 = drop_cycles3.sum(axis=0)"
   ]
  },
  {
   "cell_type": "markdown",
   "metadata": {},
   "source": [
    "RABINIZER\n"
   ]
  },
  {
   "cell_type": "markdown",
   "metadata": {},
   "source": [
    "Level 1"
   ]
  },
  {
   "cell_type": "code",
   "execution_count": 19,
   "metadata": {},
   "outputs": [
    {
     "data": {
      "text/plain": [
       "input.states                                                    1882\n",
       "input.acc_sets                                                   909\n",
       "tool               python3 ./main.py -F%H -O%O -L 1 -S 1python3 ....\n",
       "time                                                           167.3\n",
       "output.states                                                   1882\n",
       "output.acc_sets                                                  465\n",
       "dtype: object"
      ]
     },
     "execution_count": 19,
     "metadata": {},
     "output_type": "execute_result"
    }
   ],
   "source": [
    "sum1"
   ]
  },
  {
   "cell_type": "markdown",
   "metadata": {},
   "source": [
    "level 2"
   ]
  },
  {
   "cell_type": "code",
   "execution_count": 17,
   "metadata": {},
   "outputs": [
    {
     "data": {
      "text/plain": [
       "input.states                                                    1882\n",
       "input.acc_sets                                                   909\n",
       "tool               python3 ./main.py -F%H -O%O -L 2python3 ./main...\n",
       "time                                                         893.525\n",
       "output.states                                                   1882\n",
       "output.acc_sets                                                  422\n",
       "dtype: object"
      ]
     },
     "execution_count": 17,
     "metadata": {},
     "output_type": "execute_result"
    }
   ],
   "source": [
    "sum3"
   ]
  },
  {
   "cell_type": "markdown",
   "metadata": {},
   "source": [
    "level 3"
   ]
  },
  {
   "cell_type": "code",
   "execution_count": 18,
   "metadata": {},
   "outputs": [
    {
     "data": {
      "text/plain": [
       "input.states                                                    1882\n",
       "input.acc_sets                                                   909\n",
       "tool               python3 ./main.py -F%H -O%O -L 3python3 ./main...\n",
       "time                                                         962.184\n",
       "output.states                                                   1882\n",
       "output.acc_sets                                                  421\n",
       "dtype: object"
      ]
     },
     "execution_count": 18,
     "metadata": {},
     "output_type": "execute_result"
    }
   ],
   "source": [
    "sum5"
   ]
  },
  {
   "cell_type": "markdown",
   "metadata": {},
   "source": [
    "level 4"
   ]
  },
  {
   "cell_type": "code",
   "execution_count": 19,
   "metadata": {},
   "outputs": [
    {
     "data": {
      "text/plain": [
       "input.states                                                    1882\n",
       "input.acc_sets                                                   909\n",
       "tool               python3 ./main.py -F%H -O%O -L 4python3 ./main...\n",
       "time                                                         1038.33\n",
       "output.states                                                   1882\n",
       "output.acc_sets                                                  412\n",
       "dtype: object"
      ]
     },
     "execution_count": 19,
     "metadata": {},
     "output_type": "execute_result"
    }
   ],
   "source": [
    "sum9"
   ]
  },
  {
   "cell_type": "markdown",
   "metadata": {},
   "source": [
    "LTL3TELA\n",
    "\n"
   ]
  },
  {
   "cell_type": "code",
   "execution_count": 20,
   "metadata": {},
   "outputs": [
    {
     "data": {
      "text/plain": [
       "input.states                                                    1481\n",
       "input.acc_sets                                                   352\n",
       "tool               python3 ./main.py -F%H -O%O -L 1python3 ./main...\n",
       "time                                                         304.075\n",
       "output.states                                                   1481\n",
       "output.acc_sets                                                  340\n",
       "dtype: object"
      ]
     },
     "execution_count": 20,
     "metadata": {},
     "output_type": "execute_result"
    }
   ],
   "source": [
    "sum2"
   ]
  },
  {
   "cell_type": "code",
   "execution_count": 21,
   "metadata": {},
   "outputs": [
    {
     "data": {
      "text/plain": [
       "input.states                                                    1481\n",
       "input.acc_sets                                                   352\n",
       "tool               python3 ./main.py -F%H -O%O -L 2python3 ./main...\n",
       "time                                                         368.053\n",
       "output.states                                                   1481\n",
       "output.acc_sets                                                  332\n",
       "dtype: object"
      ]
     },
     "execution_count": 21,
     "metadata": {},
     "output_type": "execute_result"
    }
   ],
   "source": [
    "sum4"
   ]
  },
  {
   "cell_type": "code",
   "execution_count": 22,
   "metadata": {},
   "outputs": [
    {
     "data": {
      "text/plain": [
       "input.states                                                    1481\n",
       "input.acc_sets                                                   352\n",
       "tool               python3 ./main.py -F%H -O%O -L 3python3 ./main...\n",
       "time                                                         415.674\n",
       "output.states                                                   1481\n",
       "output.acc_sets                                                  330\n",
       "dtype: object"
      ]
     },
     "execution_count": 22,
     "metadata": {},
     "output_type": "execute_result"
    }
   ],
   "source": [
    "sum6"
   ]
  },
  {
   "cell_type": "code",
   "execution_count": 23,
   "metadata": {},
   "outputs": [
    {
     "data": {
      "text/plain": [
       "input.states                                                    1481\n",
       "input.acc_sets                                                   352\n",
       "tool               python3 ./main.py -F%H -O%O -L 4python3 ./main...\n",
       "time                                                         417.057\n",
       "output.states                                                   1481\n",
       "output.acc_sets                                                  327\n",
       "dtype: object"
      ]
     },
     "execution_count": 23,
     "metadata": {},
     "output_type": "execute_result"
    }
   ],
   "source": [
    "sum10"
   ]
  },
  {
   "cell_type": "markdown",
   "metadata": {},
   "source": [
    "LTL2TGBA"
   ]
  },
  {
   "cell_type": "code",
   "execution_count": 24,
   "metadata": {},
   "outputs": [
    {
     "data": {
      "text/plain": [
       "input.states                                                    1684\n",
       "input.acc_sets                                                   435\n",
       "tool               python3 ./main.py -F%H -O%O -L 1python3 ./main...\n",
       "time                                                         302.829\n",
       "output.states                                                   1684\n",
       "output.acc_sets                                                  391\n",
       "dtype: object"
      ]
     },
     "execution_count": 24,
     "metadata": {},
     "output_type": "execute_result"
    }
   ],
   "source": [
    "sum11"
   ]
  },
  {
   "cell_type": "code",
   "execution_count": 25,
   "metadata": {},
   "outputs": [
    {
     "data": {
      "text/plain": [
       "input.states                                                    1684\n",
       "input.acc_sets                                                   435\n",
       "tool               python3 ./main.py -F%H -O%O -L 2python3 ./main...\n",
       "time                                                         407.725\n",
       "output.states                                                   1684\n",
       "output.acc_sets                                                  391\n",
       "dtype: object"
      ]
     },
     "execution_count": 25,
     "metadata": {},
     "output_type": "execute_result"
    }
   ],
   "source": [
    "sum12"
   ]
  },
  {
   "cell_type": "code",
   "execution_count": 26,
   "metadata": {},
   "outputs": [
    {
     "data": {
      "text/plain": [
       "input.states                                                    1684\n",
       "input.acc_sets                                                   435\n",
       "tool               python3 ./main.py -F%H -O%O -L 3python3 ./main...\n",
       "time                                                         466.703\n",
       "output.states                                                   1684\n",
       "output.acc_sets                                                  391\n",
       "dtype: object"
      ]
     },
     "execution_count": 26,
     "metadata": {},
     "output_type": "execute_result"
    }
   ],
   "source": [
    "sum13"
   ]
  },
  {
   "cell_type": "code",
   "execution_count": 27,
   "metadata": {},
   "outputs": [
    {
     "data": {
      "text/plain": [
       "input.states                                                    1684\n",
       "input.acc_sets                                                   435\n",
       "tool               python3 ./main.py -F%H -O%O -L 4python3 ./main...\n",
       "time                                                         674.941\n",
       "output.states                                                   1684\n",
       "output.acc_sets                                                  389\n",
       "dtype: object"
      ]
     },
     "execution_count": 27,
     "metadata": {},
     "output_type": "execute_result"
    }
   ],
   "source": [
    "sum14"
   ]
  },
  {
   "cell_type": "code",
   "execution_count": null,
   "metadata": {},
   "outputs": [],
   "source": []
  },
  {
   "cell_type": "code",
   "execution_count": null,
   "metadata": {},
   "outputs": [],
   "source": []
  },
  {
   "cell_type": "code",
   "execution_count": null,
   "metadata": {},
   "outputs": [],
   "source": []
  }
 ],
 "metadata": {
  "kernelspec": {
   "display_name": "Python 3",
   "language": "python",
   "name": "python3"
  },
  "language_info": {
   "codemirror_mode": {
    "name": "ipython",
    "version": 3
   },
   "file_extension": ".py",
   "mimetype": "text/x-python",
   "name": "python",
   "nbconvert_exporter": "python",
   "pygments_lexer": "ipython3",
   "version": "3.8.10"
  }
 },
 "nbformat": 4,
 "nbformat_minor": 4
}
