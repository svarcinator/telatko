{
 "cells": [
  {
   "cell_type": "code",
   "execution_count": 16,
   "metadata": {},
   "outputs": [],
   "source": [
    "import numpy as np\n",
    "import pandas as pd \n",
    "import csv"
   ]
  },
  {
   "cell_type": "code",
   "execution_count": 17,
   "metadata": {},
   "outputs": [],
   "source": [
    "rab_l1 = pd.read_csv('intersection.rab4.l1.csv')\n",
    "ltl3tela_l1 = pd.read_csv('intersection.ltl3tela.l1.csv')\n",
    "ltl2tgba_l1 = pd.read_csv('intersection.ltl2tgba.l1.csv')\n",
    "rab_l2 = pd.read_csv('intersection.rab4.l2.csv')\n",
    "ltl3tela_l2 = pd.read_csv('intersection.ltl3tela.l2.csv')\n",
    "ltl2tgba_l2 = pd.read_csv('intersection.ltl2tgba.l2.csv')\n",
    "\n",
    "rab_l4 = pd.read_csv('intersection.rab4.l4.csv')\n",
    "ltl3tela_l4 = pd.read_csv('intersection.ltl3tela.l4.csv')\n",
    "ltl2tgba_l4 = pd.read_csv('intersection.ltl2tgba.l4.csv')\n",
    "\n"
   ]
  },
  {
   "cell_type": "code",
   "execution_count": 18,
   "metadata": {},
   "outputs": [],
   "source": [
    "drop_rab_l1 = rab_l1.drop(columns=[ 'input.source','input.name', 'input.ap','input.edges', 'input.transitions', 'input.scc', 'input.nondetstates'\n",
    "                , 'input.nondeterministic', 'input.alternating', 'exit_status', 'exit_code', 'output.ap', 'output.edges','output.transitions', 'output.nondetstates', 'output.scc', 'output.nondeterministic', 'output.alternating'])"
   ]
  },
  {
   "cell_type": "code",
   "execution_count": 19,
   "metadata": {},
   "outputs": [],
   "source": [
    "drop_rab_l2 = rab_l2.drop(columns=[ 'input.source','input.name', 'input.ap','input.edges', 'input.transitions', 'input.scc', 'input.nondetstates'\n",
    "                , 'input.nondeterministic', 'input.alternating', 'exit_status', 'exit_code', 'output.ap', 'output.edges','output.transitions', 'output.nondetstates', 'output.scc', 'output.nondeterministic', 'output.alternating'])"
   ]
  },
  {
   "cell_type": "code",
   "execution_count": 20,
   "metadata": {},
   "outputs": [],
   "source": [
    "drop_rab_l4 = rab_l4.drop(columns=[ 'input.source','input.name', 'input.ap','input.edges', 'input.transitions', 'input.scc', 'input.nondetstates'\n",
    "                , 'input.nondeterministic', 'input.alternating', 'exit_status', 'exit_code', 'output.ap', 'output.edges','output.transitions', 'output.nondetstates', 'output.scc', 'output.nondeterministic', 'output.alternating'])"
   ]
  },
  {
   "cell_type": "code",
   "execution_count": 21,
   "metadata": {},
   "outputs": [],
   "source": [
    "drop_ltl3tela_l1 = ltl3tela_l1.drop(columns=[ 'input.source','input.name', 'input.ap','input.edges', 'input.transitions', 'input.scc', 'input.nondetstates'\n",
    "                , 'input.nondeterministic', 'input.alternating', 'exit_status', 'exit_code', 'output.ap', 'output.edges','output.transitions', 'output.nondetstates', 'output.scc', 'output.nondeterministic', 'output.alternating'])"
   ]
  },
  {
   "cell_type": "code",
   "execution_count": 22,
   "metadata": {},
   "outputs": [],
   "source": [
    "drop_ltl3tela_l2 = ltl3tela_l2.drop(columns=[ 'input.source','input.name', 'input.ap','input.edges', 'input.transitions', 'input.scc', 'input.nondetstates'\n",
    "                , 'input.nondeterministic', 'input.alternating', 'exit_status', 'exit_code', 'output.ap', 'output.edges','output.transitions', 'output.nondetstates', 'output.scc', 'output.nondeterministic', 'output.alternating'])"
   ]
  },
  {
   "cell_type": "code",
   "execution_count": 23,
   "metadata": {},
   "outputs": [],
   "source": [
    "drop_ltl3tela_l4 = ltl3tela_l4.drop(columns=[ 'input.source','input.name', 'input.ap','input.edges', 'input.transitions', 'input.scc', 'input.nondetstates'\n",
    "                , 'input.nondeterministic', 'input.alternating', 'exit_status', 'exit_code', 'output.ap', 'output.edges','output.transitions', 'output.nondetstates', 'output.scc', 'output.nondeterministic', 'output.alternating'])"
   ]
  },
  {
   "cell_type": "code",
   "execution_count": 24,
   "metadata": {},
   "outputs": [],
   "source": [
    "drop_ltl2tgba_l1 = ltl2tgba_l1.drop(columns=[ 'input.source','input.name', 'input.ap','input.edges', 'input.transitions', 'input.scc', 'input.nondetstates'\n",
    "                , 'input.nondeterministic', 'input.alternating', 'exit_status', 'exit_code', 'output.ap', 'output.edges','output.transitions', 'output.nondetstates', 'output.scc', 'output.nondeterministic', 'output.alternating'])"
   ]
  },
  {
   "cell_type": "code",
   "execution_count": 25,
   "metadata": {},
   "outputs": [],
   "source": [
    "drop_ltl2tgba_l2 = ltl2tgba_l2.drop(columns=[ 'input.source','input.name', 'input.ap','input.edges', 'input.transitions', 'input.scc', 'input.nondetstates'\n",
    "                , 'input.nondeterministic', 'input.alternating', 'exit_status', 'exit_code', 'output.ap', 'output.edges','output.transitions', 'output.nondetstates', 'output.scc', 'output.nondeterministic', 'output.alternating'])"
   ]
  },
  {
   "cell_type": "code",
   "execution_count": 26,
   "metadata": {},
   "outputs": [],
   "source": [
    "drop_ltl2tgba_l4 = ltl2tgba_l4.drop(columns=[ 'input.source','input.name', 'input.ap','input.edges', 'input.transitions', 'input.scc', 'input.nondetstates'\n",
    "                , 'input.nondeterministic', 'input.alternating', 'exit_status', 'exit_code', 'output.ap', 'output.edges','output.transitions', 'output.nondetstates', 'output.scc', 'output.nondeterministic', 'output.alternating'])"
   ]
  },
  {
   "cell_type": "code",
   "execution_count": 27,
   "metadata": {},
   "outputs": [],
   "source": [
    "sum_rab_l1 = drop_rab_l1.sum(axis=0)\n",
    "sum_rab_l2 = drop_rab_l2.sum(axis=0)\n",
    "sum_rab_l4 = drop_rab_l4.sum(axis=0)"
   ]
  },
  {
   "cell_type": "code",
   "execution_count": 28,
   "metadata": {},
   "outputs": [],
   "source": [
    "sum_ltl3tela_l1 = drop_ltl3tela_l1.sum(axis=0)\n",
    "sum_ltl3tela_l2 = drop_ltl3tela_l2.sum(axis=0)\n",
    "sum_ltl3tela_l4 = drop_ltl3tela_l4.sum(axis=0)"
   ]
  },
  {
   "cell_type": "code",
   "execution_count": 29,
   "metadata": {},
   "outputs": [],
   "source": [
    "sum_ltl2tgba_l1 = drop_ltl2tgba_l1.sum(axis=0)\n",
    "sum_ltl2tgba_l2 = drop_ltl2tgba_l2.sum(axis=0)\n",
    "sum_ltl2tgba_l4 = drop_ltl2tgba_l4.sum(axis=0)"
   ]
  },
  {
   "cell_type": "code",
   "execution_count": 30,
   "metadata": {},
   "outputs": [
    {
     "data": {
      "text/plain": [
       "input.states                                                    9994\n",
       "input.acc_sets                                                  2501\n",
       "tool               python3 ./main.py -F%H -O%O -L 1python3 ./main...\n",
       "time                                                         195.961\n",
       "output.states                                                   9994\n",
       "output.acc_sets                                                  446\n",
       "dtype: object"
      ]
     },
     "execution_count": 30,
     "metadata": {},
     "output_type": "execute_result"
    }
   ],
   "source": [
    "sum_rab_l1"
   ]
  },
  {
   "cell_type": "code",
   "execution_count": 31,
   "metadata": {},
   "outputs": [
    {
     "data": {
      "text/plain": [
       "input.states                                                    9994\n",
       "input.acc_sets                                                  2501\n",
       "tool               python3 ./main.py -F%H -O%O -L 2python3 ./main...\n",
       "time                                                         1225.66\n",
       "output.states                                                   9994\n",
       "output.acc_sets                                                  443\n",
       "dtype: object"
      ]
     },
     "execution_count": 31,
     "metadata": {},
     "output_type": "execute_result"
    }
   ],
   "source": [
    "sum_rab_l2"
   ]
  },
  {
   "cell_type": "code",
   "execution_count": 32,
   "metadata": {},
   "outputs": [
    {
     "data": {
      "text/plain": [
       "input.states                                                    9994\n",
       "input.acc_sets                                                  2501\n",
       "tool               python3 ./main.py -F%H -O%O -L 4python3 ./main...\n",
       "time                                                         1352.45\n",
       "output.states                                                   9994\n",
       "output.acc_sets                                                  434\n",
       "dtype: object"
      ]
     },
     "execution_count": 32,
     "metadata": {},
     "output_type": "execute_result"
    }
   ],
   "source": [
    "sum_rab_l4\n"
   ]
  },
  {
   "cell_type": "code",
   "execution_count": 33,
   "metadata": {},
   "outputs": [
    {
     "data": {
      "text/plain": [
       "input.states                                                   18460\n",
       "input.acc_sets                                                   704\n",
       "tool               python3 ./main.py -F%H -O%O -L 1python3 ./main...\n",
       "time                                                         385.647\n",
       "output.states                                                  18068\n",
       "output.acc_sets                                                  660\n",
       "dtype: object"
      ]
     },
     "execution_count": 33,
     "metadata": {},
     "output_type": "execute_result"
    }
   ],
   "source": [
    "sum_ltl3tela_l1"
   ]
  },
  {
   "cell_type": "code",
   "execution_count": 34,
   "metadata": {},
   "outputs": [
    {
     "data": {
      "text/plain": [
       "input.states                                                   18460\n",
       "input.acc_sets                                                   704\n",
       "tool               python3 ./main.py -F%H -O%O -L 2python3 ./main...\n",
       "time                                                         563.797\n",
       "output.states                                                  18068\n",
       "output.acc_sets                                                  658\n",
       "dtype: object"
      ]
     },
     "execution_count": 34,
     "metadata": {},
     "output_type": "execute_result"
    }
   ],
   "source": [
    "sum_ltl3tela_l2"
   ]
  },
  {
   "cell_type": "code",
   "execution_count": 35,
   "metadata": {},
   "outputs": [
    {
     "data": {
      "text/plain": [
       "input.states                                                   18460\n",
       "input.acc_sets                                                   704\n",
       "tool               python3 ./main.py -F%H -O%O -L 4python3 ./main...\n",
       "time                                                         647.337\n",
       "output.states                                                  18068\n",
       "output.acc_sets                                                  654\n",
       "dtype: object"
      ]
     },
     "execution_count": 35,
     "metadata": {},
     "output_type": "execute_result"
    }
   ],
   "source": [
    "sum_ltl3tela_l4"
   ]
  },
  {
   "cell_type": "code",
   "execution_count": 36,
   "metadata": {},
   "outputs": [
    {
     "data": {
      "text/plain": [
       "input.states                                                    7829\n",
       "input.acc_sets                                                   451\n",
       "tool               python3 ./main.py -F%H -O%O -L 1python3 ./main...\n",
       "time                                                          190.15\n",
       "output.states                                                   7829\n",
       "output.acc_sets                                                  434\n",
       "dtype: object"
      ]
     },
     "execution_count": 36,
     "metadata": {},
     "output_type": "execute_result"
    }
   ],
   "source": [
    "sum_ltl2tgba_l1"
   ]
  },
  {
   "cell_type": "code",
   "execution_count": 37,
   "metadata": {},
   "outputs": [
    {
     "data": {
      "text/plain": [
       "input.states                                                    7829\n",
       "input.acc_sets                                                   451\n",
       "tool               python3 ./main.py -F%H -O%O -L 2python3 ./main...\n",
       "time                                                         307.573\n",
       "output.states                                                   7829\n",
       "output.acc_sets                                                  434\n",
       "dtype: object"
      ]
     },
     "execution_count": 37,
     "metadata": {},
     "output_type": "execute_result"
    }
   ],
   "source": [
    "sum_ltl2tgba_l2"
   ]
  },
  {
   "cell_type": "code",
   "execution_count": 38,
   "metadata": {},
   "outputs": [
    {
     "data": {
      "text/plain": [
       "input.states                                                    7829\n",
       "input.acc_sets                                                   451\n",
       "tool               python3 ./main.py -F%H -O%O -L 4python3 ./main...\n",
       "time                                                         679.226\n",
       "output.states                                                   7829\n",
       "output.acc_sets                                                  434\n",
       "dtype: object"
      ]
     },
     "execution_count": 38,
     "metadata": {},
     "output_type": "execute_result"
    }
   ],
   "source": [
    "sum_ltl2tgba_l4"
   ]
  },
  {
   "cell_type": "code",
   "execution_count": null,
   "metadata": {},
   "outputs": [],
   "source": []
  },
  {
   "cell_type": "code",
   "execution_count": null,
   "metadata": {},
   "outputs": [],
   "source": []
  }
 ],
 "metadata": {
  "kernelspec": {
   "display_name": "Python 3",
   "language": "python",
   "name": "python3"
  },
  "language_info": {
   "codemirror_mode": {
    "name": "ipython",
    "version": 3
   },
   "file_extension": ".py",
   "mimetype": "text/x-python",
   "name": "python",
   "nbconvert_exporter": "python",
   "pygments_lexer": "ipython3",
   "version": "3.8.10"
  }
 },
 "nbformat": 4,
 "nbformat_minor": 4
}
