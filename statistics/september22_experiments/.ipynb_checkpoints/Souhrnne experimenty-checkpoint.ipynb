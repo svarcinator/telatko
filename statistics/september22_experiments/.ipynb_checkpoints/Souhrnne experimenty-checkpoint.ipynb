{
 "cells": [
  {
   "cell_type": "code",
   "execution_count": 1,
   "metadata": {},
   "outputs": [],
   "source": [
    "import pandas as pd\n",
    "import spot\n",
    "import os\n",
    "import re"
   ]
  },
  {
   "cell_type": "code",
   "execution_count": 2,
   "metadata": {},
   "outputs": [],
   "source": [
    "test = True"
   ]
  },
  {
   "cell_type": "code",
   "execution_count": 3,
   "metadata": {},
   "outputs": [],
   "source": [
    "telatko_current = '/home/ter/telatko/telatko.py'"
   ]
  },
  {
   "cell_type": "code",
   "execution_count": 4,
   "metadata": {},
   "outputs": [],
   "source": [
    "telatko_prev_version = '/home/ter/Desktop/telatko-previous_paper_version/telatko.py'"
   ]
  },
  {
   "cell_type": "code",
   "execution_count": 5,
   "metadata": {},
   "outputs": [],
   "source": [
    "automata_sets = ['delag', 'rabinizer4', 'ltl3tela', 'ltl2tgba']"
   ]
  },
  {
   "cell_type": "code",
   "execution_count": 5,
   "metadata": {},
   "outputs": [],
   "source": [
    "if test:\n",
    "    automata_sets = ['test_set']"
   ]
  },
  {
   "cell_type": "code",
   "execution_count": 6,
   "metadata": {},
   "outputs": [],
   "source": [
    "timeout =15"
   ]
  },
  {
   "cell_type": "code",
   "execution_count": 7,
   "metadata": {},
   "outputs": [],
   "source": [
    "os.environ['SPOT_TMPDIR'] = '/home/ter/telatko/september22_experiments/autcross'\n",
    "#os.environ['SPOT_TMPKEEP'] = '1'"
   ]
  },
  {
   "cell_type": "code",
   "execution_count": 8,
   "metadata": {},
   "outputs": [],
   "source": [
    "def run_autcross_SCC_UNOPT(tool):\n",
    "    !autcross --no-checks --csv=patterns-telatko-SCC_UNOPT-{tool}.csv -F patterns-{tool}.hoa 'autfilt %H > %O' '{telatko_current} -F %H -T {timeout} -L 1 -I -O %O' '{telatko_current} -F %H -T {timeout} -L 2 -I -O %O' '{telatko_current} -F %H -T {timeout} -L 3 -I -O %O' '{telatko_current} -F %H -T {timeout} -I -O %O' > autcross/{tool}_SCC_UNOPT.log 2>&1"
   ]
  },
  {
   "cell_type": "code",
   "execution_count": 9,
   "metadata": {},
   "outputs": [],
   "source": [
    "def run_autcross_SCC_OPT(tool):\n",
    "    !autcross --no-checks --csv=patterns-telatko-SCC_OPT-{tool}.csv -F patterns-{tool}.hoa 'autfilt %H > %O' '{telatko_current} -F %H -T {timeout} -L 1 -I -S -O %O' '{telatko_current} -F %H -T {timeout} -L 2 -I -S -O %O' '{telatko_current} -F %H -T {timeout} -L 3 -I -S -O %O' '{telatko_current} -F %H -T {timeout} -I -S -O %O' > autcross/{tool}_SCC_OPT.log 2>&1"
   ]
  },
  {
   "cell_type": "code",
   "execution_count": 10,
   "metadata": {},
   "outputs": [],
   "source": [
    "def run_autcross_PREV_VERSION(tool):\n",
    "    !autcross --no-checks --csv=patterns-telatko-PREV_VERSION-{tool}.csv -F patterns-{tool}.hoa 'autfilt %H > %O' '{telatko_prev_version} -F %H -T {timeout} -L 1 -I -O %O' '{telatko_prev_version} -F %H -T {timeout} -L 2 -I -O %O' '{telatko_prev_version} -F %H -T {timeout} -L 3 -I -O %O' '{telatko_prev_version} -F %H -T {timeout} -I -O %O' > autcross/{tool}_PREV_VERSION.log 2>&1"
   ]
  },
  {
   "cell_type": "code",
   "execution_count": 11,
   "metadata": {},
   "outputs": [
    {
     "name": "stdout",
     "output_type": "stream",
     "text": [
      "test_set\n",
      "SCC UNOPT done\n",
      "SCC OPT done\n",
      "Prev version done\n",
      "test_set  done\n",
      "----------------------------\n"
     ]
    }
   ],
   "source": [
    "for tool in automata_sets:\n",
    "    print(tool)\n",
    "    run_autcross_SCC_UNOPT(tool)\n",
    "    print(\"SCC UNOPT done\")\n",
    "    run_autcross_SCC_OPT(tool)\n",
    "    print(\"SCC OPT done\")\n",
    "    run_autcross_PREV_VERSION(tool)\n",
    "    print(\"Prev version done\")\n",
    "    print(tool, \" done\")\n",
    "    print(\"----------------------------\")"
   ]
  },
  {
   "cell_type": "code",
   "execution_count": null,
   "metadata": {},
   "outputs": [],
   "source": [
    "data = {}\n",
    "\n",
    "for tool in tools_order:\n",
    "    print(tool)\n",
    "    csv = pd.read_csv('patterns-telatko-' + tool + '.csv')\n",
    "    \n",
    "    header = {\n",
    "        metrics[0]: [],\n",
    "        metrics[1] : [],\n",
    "        metrics[2] : [],\n",
    "        metrics[3] : [],\n",
    "    }\n",
    "    i = 0\n",
    "    for _,r in csv.iterrows():\n",
    "        \n",
    "        header[metrics[i]].append(r['output.acc_sets'])\n",
    "        i = (i + 1) % 4\n",
    "    data_dd = pd.DataFrame(data = header)\n",
    "    data_de = data_dd.dropna()\n",
    "    \n",
    "    data_df = data_de[(data_de['Original'] > 1)]\n",
    "    data[tool] = data_df\n",
    "    print(data_df)\n",
    "\n",
    "    \n",
    "    \n",
    "    \n",
    "    "
   ]
  }
 ],
 "metadata": {
  "kernelspec": {
   "display_name": "myenv",
   "language": "python",
   "name": "myenv"
  },
  "language_info": {
   "codemirror_mode": {
    "name": "ipython",
    "version": 3
   },
   "file_extension": ".py",
   "mimetype": "text/x-python",
   "name": "python",
   "nbconvert_exporter": "python",
   "pygments_lexer": "ipython3",
   "version": "3.8.13"
  }
 },
 "nbformat": 4,
 "nbformat_minor": 4
}
