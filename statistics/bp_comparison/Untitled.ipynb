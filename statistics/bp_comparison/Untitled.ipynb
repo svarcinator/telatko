{
 "cells": [
  {
   "cell_type": "code",
   "execution_count": 1,
   "metadata": {},
   "outputs": [],
   "source": [
    "import numpy as np\n",
    "import pandas as pd \n",
    "import csv"
   ]
  },
  {
   "cell_type": "code",
   "execution_count": 2,
   "metadata": {},
   "outputs": [],
   "source": [
    "tele1 = pd.read_csv('set1.tele.csv')\n",
    "tele2 = pd.read_csv('set2.tele.csv')\n",
    "\n"
   ]
  },
  {
   "cell_type": "code",
   "execution_count": 3,
   "metadata": {},
   "outputs": [],
   "source": [
    "drop_tele1 = tele1.drop(columns=[ 'input.source','input.name', 'input.ap','input.edges', 'input.transitions', 'input.scc', 'input.nondetstates'\n",
    "                , 'input.nondeterministic', 'input.alternating', 'exit_status', 'exit_code', 'output.ap', 'output.edges','output.transitions', 'output.nondetstates', 'output.scc', 'output.nondeterministic', 'output.alternating'])"
   ]
  },
  {
   "cell_type": "code",
   "execution_count": 4,
   "metadata": {},
   "outputs": [],
   "source": [
    "drop_tele2 = tele2.drop(columns=[ 'input.source','input.name', 'input.ap','input.edges', 'input.transitions', 'input.scc', 'input.nondetstates'\n",
    "                , 'input.nondeterministic', 'input.alternating', 'exit_status', 'exit_code', 'output.ap', 'output.edges','output.transitions', 'output.nondetstates', 'output.scc', 'output.nondeterministic', 'output.alternating'])"
   ]
  },
  {
   "cell_type": "code",
   "execution_count": 5,
   "metadata": {},
   "outputs": [],
   "source": [
    "sum1 = drop_tele1.sum(axis=0)\n",
    "sum2 = drop_tele2.sum(axis=0)"
   ]
  },
  {
   "cell_type": "code",
   "execution_count": 6,
   "metadata": {},
   "outputs": [
    {
     "data": {
      "text/plain": [
       "input.states                                                    7491\n",
       "input.acc_sets                                                  2163\n",
       "tool               python3 ./main.py -F%H -O%O -L 1python3 ./main...\n",
       "time                                                         320.156\n",
       "output.states                                                   7491\n",
       "output.acc_sets                                                 1323\n",
       "dtype: object"
      ]
     },
     "execution_count": 6,
     "metadata": {},
     "output_type": "execute_result"
    }
   ],
   "source": [
    "sum1"
   ]
  },
  {
   "cell_type": "code",
   "execution_count": 7,
   "metadata": {},
   "outputs": [
    {
     "data": {
      "text/plain": [
       "input.states                                                    2659\n",
       "input.acc_sets                                                   976\n",
       "tool               python3 ./main.py -F%H -O%O -L 1python3 ./main...\n",
       "time                                                         176.384\n",
       "output.states                                                   2659\n",
       "output.acc_sets                                                  803\n",
       "dtype: object"
      ]
     },
     "execution_count": 7,
     "metadata": {},
     "output_type": "execute_result"
    }
   ],
   "source": [
    "sum2"
   ]
  },
  {
   "cell_type": "code",
   "execution_count": null,
   "metadata": {},
   "outputs": [],
   "source": []
  }
 ],
 "metadata": {
  "kernelspec": {
   "display_name": "Python 3",
   "language": "python",
   "name": "python3"
  },
  "language_info": {
   "codemirror_mode": {
    "name": "ipython",
    "version": 3
   },
   "file_extension": ".py",
   "mimetype": "text/x-python",
   "name": "python",
   "nbconvert_exporter": "python",
   "pygments_lexer": "ipython3",
   "version": "3.8.10"
  }
 },
 "nbformat": 4,
 "nbformat_minor": 4
}
