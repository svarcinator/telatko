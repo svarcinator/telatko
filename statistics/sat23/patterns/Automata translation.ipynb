{
 "cells": [
  {
   "cell_type": "code",
   "execution_count": 1,
   "metadata": {},
   "outputs": [],
   "source": [
    "import pandas as pd\n",
    "import spot\n",
    "import os\n",
    "import re\n",
    "from ltlcross_runner import LtlcrossRunner, ResultsAnalyzer"
   ]
  },
  {
   "cell_type": "code",
   "execution_count": 3,
   "metadata": {},
   "outputs": [],
   "source": [
    "tools = {\n",
    "    'ltl2tgba_det': 'ltl2tgba -D -G %f > %O ',\n",
    "    'ltl3tela_det': '/home/xschwar3/ltl3tela-master/ltl3tela  -D1 -f %f > %O',\n",
    "    'ltl2tgba': 'ltl2tgba %f > %O ',\n",
    "    'ltl3tela': '/home/xschwar3/ltl3tela-master/ltl3tela -f %f > %O',\n",
    "    'delag': '/home/xschwar3/owl/bin/owl ltl2dela -f %f > %O',\n",
    "    'rabinizer4': '/home/xschwar3/owl/bin/owl ltl2dgra -f %f > %O',\n",
    "}"
   ]
  },
  {
   "cell_type": "code",
   "execution_count": 4,
   "metadata": {},
   "outputs": [],
   "source": [
    "tools_order = ['ltl2tgba_det', 'delag', 'rabinizer4', 'ltl2tgba', 'ltl3tela', 'ltl3tela_det']"
   ]
  },
  {
   "cell_type": "code",
   "execution_count": 5,
   "metadata": {},
   "outputs": [],
   "source": [
    "patterns_ltl = 'patterns.ltl'\n",
    "patterns_aut = 'patterns.csv'"
   ]
  },
  {
   "cell_type": "code",
   "execution_count": 6,
   "metadata": {},
   "outputs": [],
   "source": [
    "lcr = LtlcrossRunner(tools, formulas = [patterns_ltl], res_filename = patterns_aut)"
   ]
  },
  {
   "cell_type": "code",
   "execution_count": 7,
   "metadata": {},
   "outputs": [],
   "source": [
    "lcr.run_ltlcross(automata = True, timeout = '60')"
   ]
  },
  {
   "cell_type": "code",
   "execution_count": 8,
   "metadata": {},
   "outputs": [],
   "source": [
    "ra = ResultsAnalyzer(patterns_aut)"
   ]
  },
  {
   "cell_type": "code",
   "execution_count": 9,
   "metadata": {},
   "outputs": [],
   "source": [
    "ra.parse_results()"
   ]
  },
  {
   "cell_type": "code",
   "execution_count": 10,
   "metadata": {},
   "outputs": [],
   "source": [
    "ltlf_translated = {}\n",
    "\n",
    "for tool in tools_order:\n",
    "    fs = ra.values.filter(items = [('acc', tool)]).dropna()\n",
    "    \n",
    "    ltlf_translated[tool] = len(fs[fs[('acc', tool)] > 1])\n",
    "    \n",
    "    fd = open('patterns-' + tool + '.hoa', 'w')\n",
    "    for (ix, _), _ in fs.iterrows():\n",
    "        fd.write(ra.aut_for_id(ix, tool).to_str() + '\\n')\n",
    "    fd.close()"
   ]
  },
  {
   "cell_type": "code",
   "execution_count": null,
   "metadata": {},
   "outputs": [],
   "source": []
  }
 ],
 "metadata": {
  "kernelspec": {
   "display_name": "Python 3",
   "language": "python",
   "name": "python3"
  },
  "language_info": {
   "codemirror_mode": {
    "name": "ipython",
    "version": 3
   },
   "file_extension": ".py",
   "mimetype": "text/x-python",
   "name": "python",
   "nbconvert_exporter": "python",
   "pygments_lexer": "ipython3",
   "version": "3.8.10"
  }
 },
 "nbformat": 4,
 "nbformat_minor": 4
}
