{
 "cells": [
  {
   "cell_type": "code",
   "execution_count": 2,
   "metadata": {},
   "outputs": [],
   "source": [
    "import pandas as pd\n",
    "import spot\n",
    "import os\n",
    "import re"
   ]
  },
  {
   "cell_type": "code",
   "execution_count": 6,
   "metadata": {},
   "outputs": [],
   "source": [
    "timeout =30"
   ]
  },
  {
   "cell_type": "code",
   "execution_count": 7,
   "metadata": {},
   "outputs": [],
   "source": [
    "telatko = '/home/xschwar3/telatko/telatko.py'"
   ]
  },
  {
   "cell_type": "code",
   "execution_count": 8,
   "metadata": {},
   "outputs": [],
   "source": [
    "automata_sets = ['delag', 'rabinizer4', 'ltl3tela', 'ltl2tgba']"
   ]
  },
  {
   "cell_type": "code",
   "execution_count": 9,
   "metadata": {},
   "outputs": [],
   "source": [
    "os.environ['SPOT_TMPDIR'] = '/home/xschwar3/telatko/statistics/march_23/autcross'\n",
    "os.environ['SPOT_TMPKEEP'] = '1'"
   ]
  },
  {
   "cell_type": "code",
   "execution_count": 10,
   "metadata": {},
   "outputs": [],
   "source": [
    "def run_autcross(tool):\n",
    "    !autcross --no-checks --csv=patterns-telatko-{tool}.csv -F patterns-{tool}.hoa 'autfilt %H > %O' '{telatko} -F %H -T {timeout} -L 1 -I -O %O' '{telatko} -F %H -T {timeout} -L 2 -I -O %O' '{telatko} -F %H -T {timeout} -L 3 -I -O %O' '{telatko} -F %H -T {timeout} -I -G -L 3 -O %O' > autcross/{tool}.log 2>&1"
   ]
  },
  {
   "cell_type": "code",
   "execution_count": 11,
   "metadata": {},
   "outputs": [],
   "source": [
    "for tool in automata_sets:\n",
    "    run_autcross(tool)"
   ]
  },
  {
   "cell_type": "code",
   "execution_count": 14,
   "metadata": {},
   "outputs": [],
   "source": [
    "def get_data():\n",
    "    data = {}\n",
    "\n",
    "    for tool in automata_sets:\n",
    "        #print(tool)\n",
    "        csv = pd.read_csv('patterns-telatko-' + tool + '.csv')\n",
    "\n",
    "        header = {\n",
    "            'L0.acc': [],\n",
    "            'L1.acc': [],\n",
    "            'L1.time': [],\n",
    "            'L2.acc': [],\n",
    "            'L2.time': [],\n",
    "            'L3.acc': [],\n",
    "            'L3.time': [],\n",
    "            'L4.acc': [],\n",
    "            'L4.time': [],\n",
    "        }\n",
    "        i = 0\n",
    "        for _,r in csv.iterrows():\n",
    "            #print(i)\n",
    "            #print(r)\n",
    "            #header[metrics[i]].append(r['output.acc_sets'])\n",
    "            header['L' + str(i) + '.acc'].append(r['output.acc_sets'])\n",
    "            if i > 0:\n",
    "                header['L' + str(i) + '.time'].append(r['time'])\n",
    "            i = (i + 1) % 5\n",
    "\n",
    "\n",
    "\n",
    "        data_dd = pd.DataFrame(data = header)\n",
    "\n",
    "        data_de = data_dd.dropna()\n",
    "        #print(data_de)\n",
    "\n",
    "\n",
    "        data_df = data_de[(data_de['L0.acc'] > 1)]\n",
    "        data[tool] = data_df\n",
    "        \n",
    "        #print(data_df)\n",
    "    return data\n",
    "\n",
    "\n",
    "\n",
    "    "
   ]
  },
  {
   "cell_type": "code",
   "execution_count": 15,
   "metadata": {},
   "outputs": [],
   "source": [
    "def get_table(data):\n",
    "    sumdata = {\n",
    "        'tool': [],\n",
    "        'autcount': [],\n",
    "        'L0.acc': [],\n",
    "    }\n",
    "    for l in range(1, 5):\n",
    "        for s in ['acc', 'time', 'ratio']:\n",
    "            sumdata['L' + str(l) + '.' + s] = []\n",
    "\n",
    "    for tool in automata_sets:\n",
    "        data_df = data[tool]\n",
    "\n",
    "        sumdata['tool'].append(tool)\n",
    "        sd = data_df.sum()\n",
    "        sumdata['autcount'].append(len(data_df))\n",
    "        for i in range(0, 5):\n",
    "            sumdata['L' + str(i) + '.acc'].append(int(sd['L' + str(i) + '.acc']))\n",
    "            if i > 0:\n",
    "                t = sd['L' + str(i) + '.time']\n",
    "                #if i > 1 and i < 4:\n",
    "                #    t -= sd['L' + str(i - 1) + '.time']\n",
    "                sumdata['L' + str(i) + '.time'].append(round(t, 1))\n",
    "                sumdata['L' + str(i) + '.ratio'].append(\n",
    "                    round(100 - 100 * int(sd['L' + str(i) + '.acc']) / int(sd['L0.acc']), 1)\n",
    "                )\n",
    "\n",
    "    #for k in sumdata:\n",
    "    #    print(k, len(sumdata[k]))\n",
    "    r = pd.DataFrame(data = sumdata)\n",
    "    return r"
   ]
  },
  {
   "cell_type": "code",
   "execution_count": 17,
   "metadata": {},
   "outputs": [],
   "source": [
    "d = get_data()"
   ]
  },
  {
   "cell_type": "code",
   "execution_count": 18,
   "metadata": {},
   "outputs": [],
   "source": [
    "t= get_table(d)"
   ]
  },
  {
   "cell_type": "code",
   "execution_count": 19,
   "metadata": {},
   "outputs": [
    {
     "data": {
      "text/html": [
       "<div>\n",
       "<style scoped>\n",
       "    .dataframe tbody tr th:only-of-type {\n",
       "        vertical-align: middle;\n",
       "    }\n",
       "\n",
       "    .dataframe tbody tr th {\n",
       "        vertical-align: top;\n",
       "    }\n",
       "\n",
       "    .dataframe thead th {\n",
       "        text-align: right;\n",
       "    }\n",
       "</style>\n",
       "<table border=\"1\" class=\"dataframe\">\n",
       "  <thead>\n",
       "    <tr style=\"text-align: right;\">\n",
       "      <th></th>\n",
       "      <th>tool</th>\n",
       "      <th>autcount</th>\n",
       "      <th>L0.acc</th>\n",
       "      <th>L1.acc</th>\n",
       "      <th>L1.time</th>\n",
       "      <th>L1.ratio</th>\n",
       "      <th>L2.acc</th>\n",
       "      <th>L2.time</th>\n",
       "      <th>L2.ratio</th>\n",
       "      <th>L3.acc</th>\n",
       "      <th>L3.time</th>\n",
       "      <th>L3.ratio</th>\n",
       "      <th>L4.acc</th>\n",
       "      <th>L4.time</th>\n",
       "      <th>L4.ratio</th>\n",
       "    </tr>\n",
       "  </thead>\n",
       "  <tbody>\n",
       "    <tr>\n",
       "      <th>0</th>\n",
       "      <td>delag</td>\n",
       "      <td>129</td>\n",
       "      <td>523</td>\n",
       "      <td>389</td>\n",
       "      <td>737.2</td>\n",
       "      <td>25.6</td>\n",
       "      <td>398</td>\n",
       "      <td>1004.5</td>\n",
       "      <td>23.9</td>\n",
       "      <td>397</td>\n",
       "      <td>7256.8</td>\n",
       "      <td>24.1</td>\n",
       "      <td>385</td>\n",
       "      <td>9035.9</td>\n",
       "      <td>26.4</td>\n",
       "    </tr>\n",
       "    <tr>\n",
       "      <th>1</th>\n",
       "      <td>rabinizer4</td>\n",
       "      <td>234</td>\n",
       "      <td>882</td>\n",
       "      <td>552</td>\n",
       "      <td>740.5</td>\n",
       "      <td>37.4</td>\n",
       "      <td>564</td>\n",
       "      <td>924.2</td>\n",
       "      <td>36.1</td>\n",
       "      <td>561</td>\n",
       "      <td>1164.1</td>\n",
       "      <td>36.4</td>\n",
       "      <td>542</td>\n",
       "      <td>2344.8</td>\n",
       "      <td>38.5</td>\n",
       "    </tr>\n",
       "    <tr>\n",
       "      <th>2</th>\n",
       "      <td>ltl3tela</td>\n",
       "      <td>91</td>\n",
       "      <td>348</td>\n",
       "      <td>332</td>\n",
       "      <td>454.2</td>\n",
       "      <td>4.6</td>\n",
       "      <td>339</td>\n",
       "      <td>532.9</td>\n",
       "      <td>2.6</td>\n",
       "      <td>326</td>\n",
       "      <td>640.9</td>\n",
       "      <td>6.3</td>\n",
       "      <td>323</td>\n",
       "      <td>1473.7</td>\n",
       "      <td>7.2</td>\n",
       "    </tr>\n",
       "    <tr>\n",
       "      <th>3</th>\n",
       "      <td>ltl2tgba</td>\n",
       "      <td>70</td>\n",
       "      <td>198</td>\n",
       "      <td>198</td>\n",
       "      <td>496.7</td>\n",
       "      <td>0.0</td>\n",
       "      <td>198</td>\n",
       "      <td>566.6</td>\n",
       "      <td>0.0</td>\n",
       "      <td>189</td>\n",
       "      <td>838.5</td>\n",
       "      <td>4.5</td>\n",
       "      <td>189</td>\n",
       "      <td>843.3</td>\n",
       "      <td>4.5</td>\n",
       "    </tr>\n",
       "  </tbody>\n",
       "</table>\n",
       "</div>"
      ],
      "text/plain": [
       "         tool  autcount  L0.acc  L1.acc  L1.time  L1.ratio  L2.acc  L2.time  \\\n",
       "0       delag       129     523     389    737.2      25.6     398   1004.5   \n",
       "1  rabinizer4       234     882     552    740.5      37.4     564    924.2   \n",
       "2    ltl3tela        91     348     332    454.2       4.6     339    532.9   \n",
       "3    ltl2tgba        70     198     198    496.7       0.0     198    566.6   \n",
       "\n",
       "   L2.ratio  L3.acc  L3.time  L3.ratio  L4.acc  L4.time  L4.ratio  \n",
       "0      23.9     397   7256.8      24.1     385   9035.9      26.4  \n",
       "1      36.1     561   1164.1      36.4     542   2344.8      38.5  \n",
       "2       2.6     326    640.9       6.3     323   1473.7       7.2  \n",
       "3       0.0     189    838.5       4.5     189    843.3       4.5  "
      ]
     },
     "execution_count": 19,
     "metadata": {},
     "output_type": "execute_result"
    }
   ],
   "source": [
    "t"
   ]
  },
  {
   "cell_type": "markdown",
   "metadata": {},
   "source": [
    "Implication symmetry breaking DNF."
   ]
  },
  {
   "cell_type": "code",
   "execution_count": null,
   "metadata": {},
   "outputs": [],
   "source": []
  }
 ],
 "metadata": {
  "kernelspec": {
   "display_name": "Python 3",
   "language": "python",
   "name": "python3"
  },
  "language_info": {
   "codemirror_mode": {
    "name": "ipython",
    "version": 3
   },
   "file_extension": ".py",
   "mimetype": "text/x-python",
   "name": "python",
   "nbconvert_exporter": "python",
   "pygments_lexer": "ipython3",
   "version": "3.8.10"
  }
 },
 "nbformat": 4,
 "nbformat_minor": 4
}
