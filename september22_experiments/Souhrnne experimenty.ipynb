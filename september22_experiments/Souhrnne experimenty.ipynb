{
 "cells": [
  {
   "cell_type": "code",
   "execution_count": 10,
   "metadata": {},
   "outputs": [],
   "source": [
    "import pandas as pd\n",
    "import spot\n",
    "import os\n",
    "import re"
   ]
  },
  {
   "cell_type": "code",
   "execution_count": 11,
   "metadata": {},
   "outputs": [],
   "source": [
    "test = False"
   ]
  },
  {
   "cell_type": "code",
   "execution_count": 12,
   "metadata": {},
   "outputs": [],
   "source": [
    "telatko_current = '/home/ter/telatko/telatko.py'"
   ]
  },
  {
   "cell_type": "code",
   "execution_count": 13,
   "metadata": {},
   "outputs": [],
   "source": [
    "telatko_prev_version = '/home/ter/Desktop/telatko-previous_paper_version/telatko.py'"
   ]
  },
  {
   "cell_type": "code",
   "execution_count": 14,
   "metadata": {},
   "outputs": [],
   "source": [
    "automata_sets = ['delag', 'rabinizer4', 'ltl3tela', 'ltl2tgba']"
   ]
  },
  {
   "cell_type": "code",
   "execution_count": 15,
   "metadata": {},
   "outputs": [],
   "source": [
    "if test:\n",
    "    automata_sets = ['test_set']"
   ]
  },
  {
   "cell_type": "code",
   "execution_count": 16,
   "metadata": {},
   "outputs": [],
   "source": [
    "timeout =15"
   ]
  },
  {
   "cell_type": "code",
   "execution_count": 17,
   "metadata": {},
   "outputs": [],
   "source": [
    "os.environ['SPOT_TMPDIR'] = '/home/ter/telatko/september22_experiments/autcross'\n",
    "#os.environ['SPOT_TMPKEEP'] = '1'"
   ]
  },
  {
   "cell_type": "code",
   "execution_count": 18,
   "metadata": {},
   "outputs": [],
   "source": [
    "def run_autcross_SCC_UNOPT(tool):\n",
    "    !autcross --no-checks --csv=patterns-telatko-SCC_UNOPT-{tool}.csv -F patterns-{tool}.hoa 'autfilt %H > %O' '{telatko_current} -F %H -T {timeout} -L 1 -I -O %O' '{telatko_current} -F %H -T {timeout} -L 2 -I -O %O' '{telatko_current} -F %H -T {timeout} -L 3 -I -O %O' '{telatko_current} -F %H -T {timeout} -I -O %O' > autcross/{tool}_SCC_UNOPT.log 2>&1"
   ]
  },
  {
   "cell_type": "code",
   "execution_count": 19,
   "metadata": {},
   "outputs": [],
   "source": [
    "def run_autcross_SCC_OPT(tool):\n",
    "    !autcross --no-checks --csv=patterns-telatko-SCC_OPT-{tool}.csv -F patterns-{tool}.hoa 'autfilt %H > %O' '{telatko_current} -F %H -T {timeout} -L 1 -I -S -O %O' '{telatko_current} -F %H -T {timeout} -L 2 -I -S -O %O' '{telatko_current} -F %H -T {timeout} -L 3 -I -S -O %O' '{telatko_current} -F %H -T {timeout} -I -S -O %O' > autcross/{tool}_SCC_OPT.log 2>&1"
   ]
  },
  {
   "cell_type": "code",
   "execution_count": 20,
   "metadata": {},
   "outputs": [],
   "source": [
    "def run_autcross_PREV_VERSION(tool):\n",
    "    !autcross --no-checks --csv=patterns-telatko-PREV_VERSION-{tool}.csv -F patterns-{tool}.hoa 'autfilt %H > %O' '{telatko_prev_version} -F %H -T {timeout} -L 1 -I -O %O' '{telatko_prev_version} -F %H -T {timeout} -L 2 -I -O %O' '{telatko_prev_version} -F %H -T {timeout} -L 3 -I -O %O' '{telatko_prev_version} -F %H -T {timeout} -I -O %O' > autcross/{tool}_PREV_VERSION.log 2>&1"
   ]
  },
  {
   "cell_type": "code",
   "execution_count": 21,
   "metadata": {},
   "outputs": [
    {
     "name": "stdout",
     "output_type": "stream",
     "text": [
      "delag\n",
      "SCC UNOPT done\n",
      "SCC OPT done\n",
      "Prev version done\n",
      "delag  done\n",
      "----------------------------\n",
      "rabinizer4\n",
      "SCC UNOPT done\n",
      "SCC OPT done\n",
      "Prev version done\n",
      "rabinizer4  done\n",
      "----------------------------\n",
      "ltl3tela\n",
      "SCC UNOPT done\n",
      "SCC OPT done\n",
      "Prev version done\n",
      "ltl3tela  done\n",
      "----------------------------\n",
      "ltl2tgba\n",
      "SCC UNOPT done\n",
      "SCC OPT done\n",
      "Prev version done\n",
      "ltl2tgba  done\n",
      "----------------------------\n"
     ]
    }
   ],
   "source": [
    "for tool in automata_sets:\n",
    "    print(tool)\n",
    "    run_autcross_SCC_UNOPT(tool)\n",
    "    print(\"SCC UNOPT done\")\n",
    "    run_autcross_SCC_OPT(tool)\n",
    "    print(\"SCC OPT done\")\n",
    "    run_autcross_PREV_VERSION(tool)\n",
    "    print(\"Prev version done\")\n",
    "    print(tool, \" done\")\n",
    "    print(\"----------------------------\")"
   ]
  },
  {
   "cell_type": "code",
   "execution_count": 22,
   "metadata": {},
   "outputs": [],
   "source": [
    "def get_data(version):\n",
    "    data = {}\n",
    "\n",
    "    for tool in automata_sets:\n",
    "        #print(tool)\n",
    "        csv = pd.read_csv('patterns-telatko-'+version + '-' + tool + '.csv')\n",
    "\n",
    "        header = {\n",
    "            'L0.acc': [],\n",
    "            'L1.acc': [],\n",
    "            'L1.time': [],\n",
    "            'L2.acc': [],\n",
    "            'L2.time': [],\n",
    "            'L3.acc': [],\n",
    "            'L3.time': [],\n",
    "            'L4.acc': [],\n",
    "            'L4.time': [],\n",
    "        }\n",
    "        i = 0\n",
    "        for _,r in csv.iterrows():\n",
    "            #print(i)\n",
    "            #print(r)\n",
    "            #header[metrics[i]].append(r['output.acc_sets'])\n",
    "            header['L' + str(i) + '.acc'].append(r['output.acc_sets'])\n",
    "            if i > 0:\n",
    "                header['L' + str(i) + '.time'].append(r['time'])\n",
    "            i = (i + 1) % 5\n",
    "\n",
    "\n",
    "\n",
    "        data_dd = pd.DataFrame(data = header)\n",
    "\n",
    "        data_de = data_dd.dropna()\n",
    "        #print(data_de)\n",
    "\n",
    "\n",
    "        data_df = data_de[(data_de['L0.acc'] > 1)]\n",
    "        data[tool] = data_df\n",
    "        \n",
    "        #print(data_df)\n",
    "    return data\n",
    "\n",
    "\n",
    "\n",
    "    "
   ]
  },
  {
   "cell_type": "code",
   "execution_count": 23,
   "metadata": {},
   "outputs": [
    {
     "ename": "NameError",
     "evalue": "name 'data' is not defined",
     "output_type": "error",
     "traceback": [
      "\u001b[0;31m---------------------------------------------------------------------------\u001b[0m",
      "\u001b[0;31mNameError\u001b[0m                                 Traceback (most recent call last)",
      "Input \u001b[0;32mIn [23]\u001b[0m, in \u001b[0;36m<cell line: 10>\u001b[0;34m()\u001b[0m\n\u001b[1;32m      8\u001b[0m         sumdata[\u001b[38;5;124m'\u001b[39m\u001b[38;5;124mL\u001b[39m\u001b[38;5;124m'\u001b[39m \u001b[38;5;241m+\u001b[39m \u001b[38;5;28mstr\u001b[39m(l) \u001b[38;5;241m+\u001b[39m \u001b[38;5;124m'\u001b[39m\u001b[38;5;124m.\u001b[39m\u001b[38;5;124m'\u001b[39m \u001b[38;5;241m+\u001b[39m s] \u001b[38;5;241m=\u001b[39m []\n\u001b[1;32m     10\u001b[0m \u001b[38;5;28;01mfor\u001b[39;00m tool \u001b[38;5;129;01min\u001b[39;00m automata_sets:\n\u001b[0;32m---> 11\u001b[0m     data_df \u001b[38;5;241m=\u001b[39m \u001b[43mdata\u001b[49m[tool]\n\u001b[1;32m     13\u001b[0m     sumdata[\u001b[38;5;124m'\u001b[39m\u001b[38;5;124mtool\u001b[39m\u001b[38;5;124m'\u001b[39m]\u001b[38;5;241m.\u001b[39mappend(tool)\n\u001b[1;32m     14\u001b[0m     sd \u001b[38;5;241m=\u001b[39m data_df\u001b[38;5;241m.\u001b[39msum()\n",
      "\u001b[0;31mNameError\u001b[0m: name 'data' is not defined"
     ]
    }
   ],
   "source": [
    "sumdata = {\n",
    "    'tool': [],\n",
    "    'autcount': [],\n",
    "    'L0.acc': [],\n",
    "}\n",
    "for l in range(1, 5):\n",
    "    for s in ['acc', 'time', 'ratio']:\n",
    "        sumdata['L' + str(l) + '.' + s] = []\n",
    "\n",
    "for tool in automata_sets:\n",
    "    data_df = data[tool]\n",
    "    \n",
    "    sumdata['tool'].append(tool)\n",
    "    sd = data_df.sum()\n",
    "    sumdata['autcount'].append(len(data_df))\n",
    "    for i in range(0, 5):\n",
    "        sumdata['L' + str(i) + '.acc'].append(int(sd['L' + str(i) + '.acc']))\n",
    "        if i > 0:\n",
    "            t = sd['L' + str(i) + '.time']\n",
    "            #if i > 1 and i < 4:\n",
    "            #    t -= sd['L' + str(i - 1) + '.time']\n",
    "            sumdata['L' + str(i) + '.time'].append(round(t, 1))\n",
    "            sumdata['L' + str(i) + '.ratio'].append(\n",
    "                round(100 - 100 * int(sd['L' + str(i) + '.acc']) / int(sd['L0.acc']), 1)\n",
    "            )\n",
    "            \n",
    "#for k in sumdata:\n",
    "#    print(k, len(sumdata[k]))\n",
    "r = pd.DataFrame(data = sumdata)\n",
    "r"
   ]
  },
  {
   "cell_type": "code",
   "execution_count": 24,
   "metadata": {},
   "outputs": [],
   "source": [
    "def get_table(data):\n",
    "    sumdata = {\n",
    "        'tool': [],\n",
    "        'autcount': [],\n",
    "        'L0.acc': [],\n",
    "    }\n",
    "    for l in range(1, 5):\n",
    "        for s in ['acc', 'time', 'ratio']:\n",
    "            sumdata['L' + str(l) + '.' + s] = []\n",
    "\n",
    "    for tool in automata_sets:\n",
    "        data_df = data[tool]\n",
    "\n",
    "        sumdata['tool'].append(tool)\n",
    "        sd = data_df.sum()\n",
    "        sumdata['autcount'].append(len(data_df))\n",
    "        for i in range(0, 5):\n",
    "            sumdata['L' + str(i) + '.acc'].append(int(sd['L' + str(i) + '.acc']))\n",
    "            if i > 0:\n",
    "                t = sd['L' + str(i) + '.time']\n",
    "                #if i > 1 and i < 4:\n",
    "                #    t -= sd['L' + str(i - 1) + '.time']\n",
    "                sumdata['L' + str(i) + '.time'].append(round(t, 1))\n",
    "                sumdata['L' + str(i) + '.ratio'].append(\n",
    "                    round(100 - 100 * int(sd['L' + str(i) + '.acc']) / int(sd['L0.acc']), 1)\n",
    "                )\n",
    "\n",
    "    #for k in sumdata:\n",
    "    #    print(k, len(sumdata[k]))\n",
    "    r = pd.DataFrame(data = sumdata)\n",
    "    return r"
   ]
  },
  {
   "cell_type": "code",
   "execution_count": 25,
   "metadata": {},
   "outputs": [],
   "source": [
    "SCC_OPT_data = get_data(\"SCC_OPT\")\n",
    "SCC_UNOPT_data = get_data(\"SCC_UNOPT\")\n",
    "PREV_VERSION_data = get_data(\"PREV_VERSION\")"
   ]
  },
  {
   "cell_type": "markdown",
   "metadata": {},
   "source": [
    "`one_scc` =  <img src=\"https://i.upmath.me/svg/%20%5Cbigvee%5Climits_%7B%5Cdelta_%7BS_%7Bi%7D%7D%20%5Csubseteq%20%5Cdelta%7D%5Cbigleft(%20(%20%5Cbigvee%5Climits_%7Bt_%7Bi%7D%20%5Cin%20%5Cdelta_%7BS_%7Bi%7D%7D%7D%20e_i%20)%20%5Cland%20%20(%20%5Cbigwedge%5Climits_%7Bt_%7Bj%7D%20%5Cin%20%5Cdelta%20%5Csetminus%20%5Cdelta_%7BS_%7Bi%7D%7D%7D%20%5Clnot%20e_j%20%20)%20%5Cbigright)\" alt=\" \\bigvee\\limits_{\\delta_{S_{i}} \\subseteq \\delta}\\bigleft( ( \\bigvee\\limits_{t_{i} \\in \\delta_{S_{i}}} e_i ) \\land  ( \\bigwedge\\limits_{t_{j} \\in \\delta \\setminus \\delta_{S_{i}}} \\lnot e_j  ) \\bigright)\" />"
   ]
  },
  {
   "cell_type": "markdown",
   "metadata": {},
   "source": [
    "`in_n_out` = <img src=\"https://i.upmath.me/svg/%5Cbigwedge%5Climits_%7Bq%20%5Cin%20Q%7D%20%5Cbigleft(%20(%20%5Cbigvee%5Climits_%7Bt_%7Bi%7D%20%5Cin%20%5Cdelta%20%5C%20%20%5Ccap%20%5C%20%5C%7B%20q%20%5C%7D%20%5Ctimes%202%5EM%20%5Ctimes%20%5CSigma%20%5Ctimes%20Q%7D%20e_i%20)%20%5CLongleftrightarrow(%20%5Cbigvee%5Climits_%7Bt_%7Bj%7D%20%5Cin%20%5Cdelta%20%5C%20%5Ccap%20%5C%20Q%20%5Ctimes%202%5EM%20%5Ctimes%20%5CSigma%20%5Ctimes%20%5C%7Bq%5C%7D%7D%20e_%7Bj%7D%20)%20%5Cbigright)\" alt=\"\\bigwedge\\limits_{q \\in Q} \\bigleft( ( \\bigvee\\limits_{t_{i} \\in \\delta \\  \\cap \\ \\{ q \\} \\times 2^M \\times \\Sigma \\times Q} e_i ) \\Longleftrightarrow( \\bigvee\\limits_{t_{j} \\in \\delta \\ \\cap \\ Q \\times 2^M \\times \\Sigma \\times \\{q\\}} e_{j} ) \\bigright)\" />\n",
    "\n"
   ]
  },
  {
   "cell_type": "markdown",
   "metadata": {},
   "source": [
    "`true_cycles` = <img src=\"https://i.upmath.me/svg/%5Cbegin%7Balign*%7D%0A%20%20%5Cmcycle_3(%5Cvec%7Be%7D)%0A%20%20%26%3D%5Cbigvee_%7Bt%5Cin%5Cdelta%7De_t~%5Cwedge~%5Cforall%5Cvec%7Bs%7D~.~%5Czeta_%7B%5Cref%7Ben%3A1%7D%7D(%5Cvec%7Be%7D%2C%5Cvec%7Bs%7D)%5C%2C%5Cvee%5C%2C%0A%20%20%20%20%5Czeta_%7B%5Cref%7Ben%3A2%7D%7D(%5Cvec%7Be%7D%2C%5Cvec%7Bs%7D)%5C%2C%5Cvee%5C%2C%0A%20%20%20%20%5Czeta_%7B%5Cref%7Ben%3A3%7D%7D(%5Cvec%7Be%7D%2C%5Cvec%7Bs%7D)%5C%5C%20%25%5Cqquad%5Ctextrm%7Bwhere%7D%5C%5C%0A%20%20%5Czeta_%7B%5Cref%7Ben%3A1%7D%7D(%5Cvec%7Be%7D%2C%5Cvec%7Bs%7D)%20%26%3D%20%5Cbigwedge_%7Bt%3D(p%2Ca%2CM'%2Cq)%5Cin%5Cdelta%7D%5Chspace%7B-5mm%7D%5Cbig(e_t%5Cimplies%20(s_p%5Cwedge%20s_q)%5Cbig)%5C%5C%0A%20%20%5Czeta_%7B%5Cref%7Ben%3A2%7D%7D(%5Cvec%7Be%7D%2C%5Cvec%7Bs%7D)%20%26%3D%20%5Cbigwedge_%7Bt%3D(p%2Ca%2CM'%2Cq)%5Cin%5Cdelta%7D%5Chspace%7B-5mm%7D%5Cbig(e_t%5Cimplies%20(%5Cneg%20s_p%5Cwedge%20%5Cneg%20s_q)%5Cbig)%5C%5C%0A%20%20%5Czeta_%7B%5Cref%7Ben%3A3%7D%7D(%5Cvec%7Be%7D%2C%5Cvec%7Bs%7D)%20%26%3D%20%5Cbig(%5Cbigvee_%7Bt%3D(p%2Ca%2CM'%2Cq)%5Cin%5Cdelta%7D%5Chspace%7B-5mm%7De_t%5Cwedge%20s_p%5Cwedge%20%5Cneg%20s_q%5Cbig)%20~%5Cwedge~%0A%20%20%5Cbig(%5Cbigvee_%7Bt%3D(p%2Ca%2CM'%2Cq)%5Cin%5Cdelta%7D%5Chspace%7B-5mm%7De_t%5Cwedge%20%5Cneg%20s_p%5Cwedge%20s_q%5Cbig)%0A%5Cend%7Balign*%7D\" alt=\"\\begin{align*}\n",
    "  \\mcycle_3(\\vec{e})\n",
    "  &amp;=\\bigvee_{t\\in\\delta}e_t~\\wedge~\\forall\\vec{s}~.~\\zeta_{\\ref{en:1}}(\\vec{e},\\vec{s})\\,\\vee\\,\n",
    "    \\zeta_{\\ref{en:2}}(\\vec{e},\\vec{s})\\,\\vee\\,\n",
    "    \\zeta_{\\ref{en:3}}(\\vec{e},\\vec{s})\\\\ %\\qquad\\textrm{where}\\\\\n",
    "  \\zeta_{\\ref{en:1}}(\\vec{e},\\vec{s}) &amp;= \\bigwedge_{t=(p,a,M',q)\\in\\delta}\\hspace{-5mm}\\big(e_t\\implies (s_p\\wedge s_q)\\big)\\\\\n",
    "  \\zeta_{\\ref{en:2}}(\\vec{e},\\vec{s}) &amp;= \\bigwedge_{t=(p,a,M',q)\\in\\delta}\\hspace{-5mm}\\big(e_t\\implies (\\neg s_p\\wedge \\neg s_q)\\big)\\\\\n",
    "  \\zeta_{\\ref{en:3}}(\\vec{e},\\vec{s}) &amp;= \\big(\\bigvee_{t=(p,a,M',q)\\in\\delta}\\hspace{-5mm}e_t\\wedge s_p\\wedge \\neg s_q\\big) ~\\wedge~\n",
    "  \\big(\\bigvee_{t=(p,a,M',q)\\in\\delta}\\hspace{-5mm}e_t\\wedge \\neg s_p\\wedge s_q\\big)\n",
    "\\end{align*}\" />"
   ]
  },
  {
   "cell_type": "markdown",
   "metadata": {},
   "source": [
    "`least_one_edge` = <img src=\"https://i.upmath.me/svg/%20%5Cbigvee_%7Be_t%20%5Cin%20S_i%7De_t\" alt=\" \\bigvee_{e_t \\in S_i}e_t\" />"
   ]
  },
  {
   "cell_type": "markdown",
   "metadata": {},
   "source": [
    "## Previous version"
   ]
  },
  {
   "cell_type": "markdown",
   "metadata": {},
   "source": [
    "**L1**: `one_scc`"
   ]
  },
  {
   "cell_type": "markdown",
   "metadata": {},
   "source": [
    "**L2**: `one_scc` ∧ `in_n_out`"
   ]
  },
  {
   "cell_type": "markdown",
   "metadata": {},
   "source": [
    "**L3**: `true_cycle` ∧ `one_scc` ∧ `in_n_out`"
   ]
  },
  {
   "cell_type": "code",
   "execution_count": 27,
   "metadata": {},
   "outputs": [
    {
     "data": {
      "text/html": [
       "<div>\n",
       "<style scoped>\n",
       "    .dataframe tbody tr th:only-of-type {\n",
       "        vertical-align: middle;\n",
       "    }\n",
       "\n",
       "    .dataframe tbody tr th {\n",
       "        vertical-align: top;\n",
       "    }\n",
       "\n",
       "    .dataframe thead th {\n",
       "        text-align: right;\n",
       "    }\n",
       "</style>\n",
       "<table border=\"1\" class=\"dataframe\">\n",
       "  <thead>\n",
       "    <tr style=\"text-align: right;\">\n",
       "      <th></th>\n",
       "      <th>tool</th>\n",
       "      <th>autcount</th>\n",
       "      <th>L0.acc</th>\n",
       "      <th>L1.acc</th>\n",
       "      <th>L1.time</th>\n",
       "      <th>L1.ratio</th>\n",
       "      <th>L2.acc</th>\n",
       "      <th>L2.time</th>\n",
       "      <th>L2.ratio</th>\n",
       "      <th>L3.acc</th>\n",
       "      <th>L3.time</th>\n",
       "      <th>L3.ratio</th>\n",
       "      <th>L4.acc</th>\n",
       "      <th>L4.time</th>\n",
       "      <th>L4.ratio</th>\n",
       "    </tr>\n",
       "  </thead>\n",
       "  <tbody>\n",
       "    <tr>\n",
       "      <th>0</th>\n",
       "      <td>delag</td>\n",
       "      <td>129</td>\n",
       "      <td>523</td>\n",
       "      <td>390</td>\n",
       "      <td>491.5</td>\n",
       "      <td>25.4</td>\n",
       "      <td>395</td>\n",
       "      <td>723.0</td>\n",
       "      <td>24.5</td>\n",
       "      <td>397</td>\n",
       "      <td>7998.4</td>\n",
       "      <td>24.1</td>\n",
       "      <td>386</td>\n",
       "      <td>9695.3</td>\n",
       "      <td>26.2</td>\n",
       "    </tr>\n",
       "    <tr>\n",
       "      <th>1</th>\n",
       "      <td>rabinizer4</td>\n",
       "      <td>234</td>\n",
       "      <td>882</td>\n",
       "      <td>566</td>\n",
       "      <td>559.5</td>\n",
       "      <td>35.8</td>\n",
       "      <td>569</td>\n",
       "      <td>690.0</td>\n",
       "      <td>35.5</td>\n",
       "      <td>567</td>\n",
       "      <td>904.8</td>\n",
       "      <td>35.7</td>\n",
       "      <td>543</td>\n",
       "      <td>1727.9</td>\n",
       "      <td>38.4</td>\n",
       "    </tr>\n",
       "    <tr>\n",
       "      <th>2</th>\n",
       "      <td>ltl3tela</td>\n",
       "      <td>91</td>\n",
       "      <td>348</td>\n",
       "      <td>332</td>\n",
       "      <td>309.3</td>\n",
       "      <td>4.6</td>\n",
       "      <td>334</td>\n",
       "      <td>360.6</td>\n",
       "      <td>4.0</td>\n",
       "      <td>327</td>\n",
       "      <td>422.6</td>\n",
       "      <td>6.0</td>\n",
       "      <td>323</td>\n",
       "      <td>948.1</td>\n",
       "      <td>7.2</td>\n",
       "    </tr>\n",
       "    <tr>\n",
       "      <th>3</th>\n",
       "      <td>ltl2tgba</td>\n",
       "      <td>70</td>\n",
       "      <td>198</td>\n",
       "      <td>198</td>\n",
       "      <td>587.3</td>\n",
       "      <td>0.0</td>\n",
       "      <td>198</td>\n",
       "      <td>612.6</td>\n",
       "      <td>0.0</td>\n",
       "      <td>189</td>\n",
       "      <td>858.2</td>\n",
       "      <td>4.5</td>\n",
       "      <td>189</td>\n",
       "      <td>914.9</td>\n",
       "      <td>4.5</td>\n",
       "    </tr>\n",
       "  </tbody>\n",
       "</table>\n",
       "</div>"
      ],
      "text/plain": [
       "         tool  autcount  L0.acc  L1.acc  L1.time  L1.ratio  L2.acc  L2.time  \\\n",
       "0       delag       129     523     390    491.5      25.4     395    723.0   \n",
       "1  rabinizer4       234     882     566    559.5      35.8     569    690.0   \n",
       "2    ltl3tela        91     348     332    309.3       4.6     334    360.6   \n",
       "3    ltl2tgba        70     198     198    587.3       0.0     198    612.6   \n",
       "\n",
       "   L2.ratio  L3.acc  L3.time  L3.ratio  L4.acc  L4.time  L4.ratio  \n",
       "0      24.5     397   7998.4      24.1     386   9695.3      26.2  \n",
       "1      35.5     567    904.8      35.7     543   1727.9      38.4  \n",
       "2       4.0     327    422.6       6.0     323    948.1       7.2  \n",
       "3       0.0     189    858.2       4.5     189    914.9       4.5  "
      ]
     },
     "execution_count": 27,
     "metadata": {},
     "output_type": "execute_result"
    }
   ],
   "source": [
    "t = get_table(PREV_VERSION_data)\n",
    "t"
   ]
  },
  {
   "cell_type": "markdown",
   "metadata": {},
   "source": [
    "## SCC optimized"
   ]
  },
  {
   "cell_type": "markdown",
   "metadata": {},
   "source": [
    "**L1**: <img src=\"https://i.upmath.me/svg/%20%5Cbigwedge_%7BSCC%20%5C%3BS_i%7D%5Cbigvee_%7Be_t%20%5Cin%20S_i%7De_t\" alt=\" \\bigwedge_{SCC \\;S_i}\\bigvee_{e_t \\in S_i}e_t\" />"
   ]
  },
  {
   "cell_type": "markdown",
   "metadata": {},
   "source": [
    "**L2**: *for each SCC* `least_one_edge` ∧ `in_n_out`"
   ]
  },
  {
   "cell_type": "markdown",
   "metadata": {},
   "source": [
    "**L3**: *for each SCC* `true_cycles`"
   ]
  },
  {
   "cell_type": "code",
   "execution_count": 28,
   "metadata": {},
   "outputs": [
    {
     "data": {
      "text/html": [
       "<div>\n",
       "<style scoped>\n",
       "    .dataframe tbody tr th:only-of-type {\n",
       "        vertical-align: middle;\n",
       "    }\n",
       "\n",
       "    .dataframe tbody tr th {\n",
       "        vertical-align: top;\n",
       "    }\n",
       "\n",
       "    .dataframe thead th {\n",
       "        text-align: right;\n",
       "    }\n",
       "</style>\n",
       "<table border=\"1\" class=\"dataframe\">\n",
       "  <thead>\n",
       "    <tr style=\"text-align: right;\">\n",
       "      <th></th>\n",
       "      <th>tool</th>\n",
       "      <th>autcount</th>\n",
       "      <th>L0.acc</th>\n",
       "      <th>L1.acc</th>\n",
       "      <th>L1.time</th>\n",
       "      <th>L1.ratio</th>\n",
       "      <th>L2.acc</th>\n",
       "      <th>L2.time</th>\n",
       "      <th>L2.ratio</th>\n",
       "      <th>L3.acc</th>\n",
       "      <th>L3.time</th>\n",
       "      <th>L3.ratio</th>\n",
       "      <th>L4.acc</th>\n",
       "      <th>L4.time</th>\n",
       "      <th>L4.ratio</th>\n",
       "    </tr>\n",
       "  </thead>\n",
       "  <tbody>\n",
       "    <tr>\n",
       "      <th>0</th>\n",
       "      <td>delag</td>\n",
       "      <td>129</td>\n",
       "      <td>523</td>\n",
       "      <td>390</td>\n",
       "      <td>503.5</td>\n",
       "      <td>25.4</td>\n",
       "      <td>395</td>\n",
       "      <td>711.8</td>\n",
       "      <td>24.5</td>\n",
       "      <td>398</td>\n",
       "      <td>2287.3</td>\n",
       "      <td>23.9</td>\n",
       "      <td>386</td>\n",
       "      <td>3314.3</td>\n",
       "      <td>26.2</td>\n",
       "    </tr>\n",
       "    <tr>\n",
       "      <th>1</th>\n",
       "      <td>rabinizer4</td>\n",
       "      <td>234</td>\n",
       "      <td>882</td>\n",
       "      <td>558</td>\n",
       "      <td>534.6</td>\n",
       "      <td>36.7</td>\n",
       "      <td>563</td>\n",
       "      <td>716.6</td>\n",
       "      <td>36.2</td>\n",
       "      <td>573</td>\n",
       "      <td>882.9</td>\n",
       "      <td>35.0</td>\n",
       "      <td>551</td>\n",
       "      <td>1635.8</td>\n",
       "      <td>37.5</td>\n",
       "    </tr>\n",
       "    <tr>\n",
       "      <th>2</th>\n",
       "      <td>ltl3tela</td>\n",
       "      <td>91</td>\n",
       "      <td>348</td>\n",
       "      <td>332</td>\n",
       "      <td>295.1</td>\n",
       "      <td>4.6</td>\n",
       "      <td>334</td>\n",
       "      <td>321.4</td>\n",
       "      <td>4.0</td>\n",
       "      <td>329</td>\n",
       "      <td>452.7</td>\n",
       "      <td>5.5</td>\n",
       "      <td>323</td>\n",
       "      <td>977.3</td>\n",
       "      <td>7.2</td>\n",
       "    </tr>\n",
       "    <tr>\n",
       "      <th>3</th>\n",
       "      <td>ltl2tgba</td>\n",
       "      <td>70</td>\n",
       "      <td>198</td>\n",
       "      <td>198</td>\n",
       "      <td>46.5</td>\n",
       "      <td>0.0</td>\n",
       "      <td>198</td>\n",
       "      <td>76.9</td>\n",
       "      <td>0.0</td>\n",
       "      <td>191</td>\n",
       "      <td>215.3</td>\n",
       "      <td>3.5</td>\n",
       "      <td>191</td>\n",
       "      <td>272.9</td>\n",
       "      <td>3.5</td>\n",
       "    </tr>\n",
       "  </tbody>\n",
       "</table>\n",
       "</div>"
      ],
      "text/plain": [
       "         tool  autcount  L0.acc  L1.acc  L1.time  L1.ratio  L2.acc  L2.time  \\\n",
       "0       delag       129     523     390    503.5      25.4     395    711.8   \n",
       "1  rabinizer4       234     882     558    534.6      36.7     563    716.6   \n",
       "2    ltl3tela        91     348     332    295.1       4.6     334    321.4   \n",
       "3    ltl2tgba        70     198     198     46.5       0.0     198     76.9   \n",
       "\n",
       "   L2.ratio  L3.acc  L3.time  L3.ratio  L4.acc  L4.time  L4.ratio  \n",
       "0      24.5     398   2287.3      23.9     386   3314.3      26.2  \n",
       "1      36.2     573    882.9      35.0     551   1635.8      37.5  \n",
       "2       4.0     329    452.7       5.5     323    977.3       7.2  \n",
       "3       0.0     191    215.3       3.5     191    272.9       3.5  "
      ]
     },
     "execution_count": 28,
     "metadata": {},
     "output_type": "execute_result"
    }
   ],
   "source": [
    "t = get_table(SCC_OPT_data)\n",
    "t"
   ]
  },
  {
   "cell_type": "markdown",
   "metadata": {},
   "source": [
    "**L1**: `least_one_edge`"
   ]
  },
  {
   "cell_type": "markdown",
   "metadata": {},
   "source": [
    "**L2**: `least_one_edge` ∧ in_n_out"
   ]
  },
  {
   "cell_type": "markdown",
   "metadata": {},
   "source": [
    "**L3**: true_cycles"
   ]
  },
  {
   "cell_type": "code",
   "execution_count": 29,
   "metadata": {},
   "outputs": [
    {
     "data": {
      "text/html": [
       "<div>\n",
       "<style scoped>\n",
       "    .dataframe tbody tr th:only-of-type {\n",
       "        vertical-align: middle;\n",
       "    }\n",
       "\n",
       "    .dataframe tbody tr th {\n",
       "        vertical-align: top;\n",
       "    }\n",
       "\n",
       "    .dataframe thead th {\n",
       "        text-align: right;\n",
       "    }\n",
       "</style>\n",
       "<table border=\"1\" class=\"dataframe\">\n",
       "  <thead>\n",
       "    <tr style=\"text-align: right;\">\n",
       "      <th></th>\n",
       "      <th>tool</th>\n",
       "      <th>autcount</th>\n",
       "      <th>L0.acc</th>\n",
       "      <th>L1.acc</th>\n",
       "      <th>L1.time</th>\n",
       "      <th>L1.ratio</th>\n",
       "      <th>L2.acc</th>\n",
       "      <th>L2.time</th>\n",
       "      <th>L2.ratio</th>\n",
       "      <th>L3.acc</th>\n",
       "      <th>L3.time</th>\n",
       "      <th>L3.ratio</th>\n",
       "      <th>L4.acc</th>\n",
       "      <th>L4.time</th>\n",
       "      <th>L4.ratio</th>\n",
       "    </tr>\n",
       "  </thead>\n",
       "  <tbody>\n",
       "    <tr>\n",
       "      <th>0</th>\n",
       "      <td>delag</td>\n",
       "      <td>129</td>\n",
       "      <td>523</td>\n",
       "      <td>400</td>\n",
       "      <td>550.4</td>\n",
       "      <td>23.5</td>\n",
       "      <td>407</td>\n",
       "      <td>756.9</td>\n",
       "      <td>22.2</td>\n",
       "      <td>422</td>\n",
       "      <td>8344.5</td>\n",
       "      <td>19.3</td>\n",
       "      <td>387</td>\n",
       "      <td>9963.4</td>\n",
       "      <td>26.0</td>\n",
       "    </tr>\n",
       "    <tr>\n",
       "      <th>1</th>\n",
       "      <td>rabinizer4</td>\n",
       "      <td>234</td>\n",
       "      <td>882</td>\n",
       "      <td>553</td>\n",
       "      <td>573.5</td>\n",
       "      <td>37.3</td>\n",
       "      <td>570</td>\n",
       "      <td>744.4</td>\n",
       "      <td>35.4</td>\n",
       "      <td>589</td>\n",
       "      <td>952.5</td>\n",
       "      <td>33.2</td>\n",
       "      <td>546</td>\n",
       "      <td>1730.1</td>\n",
       "      <td>38.1</td>\n",
       "    </tr>\n",
       "    <tr>\n",
       "      <th>2</th>\n",
       "      <td>ltl3tela</td>\n",
       "      <td>91</td>\n",
       "      <td>348</td>\n",
       "      <td>339</td>\n",
       "      <td>312.5</td>\n",
       "      <td>2.6</td>\n",
       "      <td>339</td>\n",
       "      <td>352.5</td>\n",
       "      <td>2.6</td>\n",
       "      <td>333</td>\n",
       "      <td>583.9</td>\n",
       "      <td>4.3</td>\n",
       "      <td>332</td>\n",
       "      <td>1126.6</td>\n",
       "      <td>4.6</td>\n",
       "    </tr>\n",
       "    <tr>\n",
       "      <th>3</th>\n",
       "      <td>ltl2tgba</td>\n",
       "      <td>70</td>\n",
       "      <td>198</td>\n",
       "      <td>198</td>\n",
       "      <td>57.7</td>\n",
       "      <td>0.0</td>\n",
       "      <td>198</td>\n",
       "      <td>106.3</td>\n",
       "      <td>0.0</td>\n",
       "      <td>191</td>\n",
       "      <td>539.5</td>\n",
       "      <td>3.5</td>\n",
       "      <td>191</td>\n",
       "      <td>568.8</td>\n",
       "      <td>3.5</td>\n",
       "    </tr>\n",
       "  </tbody>\n",
       "</table>\n",
       "</div>"
      ],
      "text/plain": [
       "         tool  autcount  L0.acc  L1.acc  L1.time  L1.ratio  L2.acc  L2.time  \\\n",
       "0       delag       129     523     400    550.4      23.5     407    756.9   \n",
       "1  rabinizer4       234     882     553    573.5      37.3     570    744.4   \n",
       "2    ltl3tela        91     348     339    312.5       2.6     339    352.5   \n",
       "3    ltl2tgba        70     198     198     57.7       0.0     198    106.3   \n",
       "\n",
       "   L2.ratio  L3.acc  L3.time  L3.ratio  L4.acc  L4.time  L4.ratio  \n",
       "0      22.2     422   8344.5      19.3     387   9963.4      26.0  \n",
       "1      35.4     589    952.5      33.2     546   1730.1      38.1  \n",
       "2       2.6     333    583.9       4.3     332   1126.6       4.6  \n",
       "3       0.0     191    539.5       3.5     191    568.8       3.5  "
      ]
     },
     "execution_count": 29,
     "metadata": {},
     "output_type": "execute_result"
    }
   ],
   "source": [
    "t = get_table(SCC_UNOPT_data)\n",
    "t"
   ]
  },
  {
   "cell_type": "markdown",
   "metadata": {},
   "source": [
    "U ltl3tela bylo na vstupu 89 -- to se děje z důvodu, že na konci `telatka` mam zapnutý `equivalence check` (ze spot knihovny), zjednodusovani trvalo tak dlouho, ze muselo byt zabite signalem 9 (SIGKILL 9 Term Kill signal), po odstraneni `equivalence check` dobehne okamzite.  \n",
    "Possible report na spot."
   ]
  },
  {
   "cell_type": "code",
   "execution_count": null,
   "metadata": {},
   "outputs": [],
   "source": []
  }
 ],
 "metadata": {
  "kernelspec": {
   "display_name": "myenv",
   "language": "python",
   "name": "myenv"
  },
  "language_info": {
   "codemirror_mode": {
    "name": "ipython",
    "version": 3
   },
   "file_extension": ".py",
   "mimetype": "text/x-python",
   "name": "python",
   "nbconvert_exporter": "python",
   "pygments_lexer": "ipython3",
   "version": "3.8.13"
  }
 },
 "nbformat": 4,
 "nbformat_minor": 4
}
